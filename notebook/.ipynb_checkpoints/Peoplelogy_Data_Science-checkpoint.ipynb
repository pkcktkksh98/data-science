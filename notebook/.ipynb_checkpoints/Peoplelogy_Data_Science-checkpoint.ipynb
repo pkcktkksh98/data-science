{
 "cells": [
  {
   "cell_type": "markdown",
   "id": "ae17dc88-0c4e-4833-98c9-0d2be893c79e",
   "metadata": {},
   "source": [
    "# Welcome はじめましょうか"
   ]
  },
  {
   "cell_type": "code",
   "execution_count": null,
   "id": "7de2fd4d-ea74-421a-b78b-997418fafa7e",
   "metadata": {},
   "outputs": [],
   "source": [
    "print(\"Hello World\")"
   ]
  },
  {
   "cell_type": "code",
   "execution_count": null,
   "id": "d22eda28-141f-42f2-9523-5d822517b1fb",
   "metadata": {},
   "outputs": [],
   "source": [
    "\"Hello World\""
   ]
  },
  {
   "cell_type": "code",
   "execution_count": null,
   "id": "e09f165f-05ff-4b8a-85e1-fb55641322b4",
   "metadata": {},
   "outputs": [],
   "source": [
    "%ls"
   ]
  },
  {
   "cell_type": "code",
   "execution_count": null,
   "id": "ce144541-2f1c-4f76-a029-9f3c3cf94b33",
   "metadata": {},
   "outputs": [],
   "source": []
  },
  {
   "cell_type": "code",
   "execution_count": 6,
   "id": "b591af3c-ea42-4605-8882-872b89c03427",
   "metadata": {},
   "outputs": [
    {
     "name": "stdin",
     "output_type": "stream",
     "text": [
      "Enter your age: 123\n",
      "Enter your name: dabds\n"
     ]
    },
    {
     "name": "stdout",
     "output_type": "stream",
     "text": [
      "dabds is 129 years old in 2030.\n"
     ]
    }
   ],
   "source": [
    "## name = input(\"Enter your name:\")\n",
    "age = input(\"Enter your age:\")\n",
    "name = input(\"Enter your name:\")\n",
    "ageIn2030 = int(age)+6\n",
    "\n",
    "print(f\"{name} is {ageIn2030} years old in 2030.\")"
   ]
  },
  {
   "cell_type": "code",
   "execution_count": 10,
   "id": "aeb89797-cd9f-4120-b82d-4fcec35deb18",
   "metadata": {},
   "outputs": [
    {
     "name": "stdout",
     "output_type": "stream",
     "text": [
      "W\n"
     ]
    }
   ],
   "source": [
    "words = \"Hello World\"\n",
    "print(words[6])"
   ]
  },
  {
   "cell_type": "code",
   "execution_count": 2,
   "id": "8bfd8102-c9cc-4516-9d14-03c30ed83b15",
   "metadata": {},
   "outputs": [],
   "source": [
    "scores = [94,85,78,66,59,73,44,35]"
   ]
  },
  {
   "cell_type": "code",
   "execution_count": 14,
   "id": "d931d37e-8d01-4841-a550-cc5ce9847d1d",
   "metadata": {},
   "outputs": [],
   "source": [
    "def score_check(array):\n",
    "    pass_count=0\n",
    "    fail_count=0\n",
    "    i=0\n",
    "    for i in range(len(array)):\n",
    "        if array[i]>60:\n",
    "            print(f\"{array[i]}=Pass\")\n",
    "            pass_count=pass_count+1\n",
    "        else:\n",
    "            print(f\"{array[i]}=Fail\")\n",
    "            fail_count=fail_count+1\n",
    "        return pass_count,fail_count"
   ]
  },
  {
   "cell_type": "code",
   "execution_count": 16,
   "id": "4a4590c0-fac0-4c58-ab6c-b67a583cce00",
   "metadata": {},
   "outputs": [
    {
     "name": "stdout",
     "output_type": "stream",
     "text": [
      "94=Pass\n"
     ]
    },
    {
     "data": {
      "text/plain": [
       "(1, 0)"
      ]
     },
     "execution_count": 16,
     "metadata": {},
     "output_type": "execute_result"
    }
   ],
   "source": [
    "score_check(scores)"
   ]
  }
 ],
 "metadata": {
  "kernelspec": {
   "display_name": "Python 3 (ipykernel)",
   "language": "python",
   "name": "python3"
  },
  "language_info": {
   "codemirror_mode": {
    "name": "ipython",
    "version": 3
   },
   "file_extension": ".py",
   "mimetype": "text/x-python",
   "name": "python",
   "nbconvert_exporter": "python",
   "pygments_lexer": "ipython3",
   "version": "3.12.4"
  }
 },
 "nbformat": 4,
 "nbformat_minor": 5
}
