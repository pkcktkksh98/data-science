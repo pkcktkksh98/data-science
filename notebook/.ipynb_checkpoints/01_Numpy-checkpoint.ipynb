{
 "cells": [
  {
   "cell_type": "code",
   "execution_count": 1,
   "metadata": {
    "id": "qOpmddj-k1dd"
   },
   "outputs": [
    {
     "data": {
      "text/plain": [
       "'\\nimport numpy as np\\nimport matplotlib.pyplot as plt\\n%matplotlib inline\\n'"
      ]
     },
     "execution_count": 1,
     "metadata": {},
     "output_type": "execute_result"
    }
   ],
   "source": [
    "'''\n",
    "import numpy as np\n",
    "import matplotlib.pyplot as plt\n",
    "%matplotlib inline\n",
    "'''"
   ]
  },
  {
   "cell_type": "markdown",
   "metadata": {
    "id": "QNBg2k7Yk1di"
   },
   "source": [
    "# Numpy\n",
    "\n",
    "\n",
    "Datasets can include collections of documents, images, sound clips, numerical measurements, or, really anything. Despite the heterogeneity, it will help us to think of all data fundamentally as arrays of numbers.\n",
    "\n",
    "| Data type\t    | Arrays of Numbers? |\n",
    "|---------------|-------------|\n",
    "|Images | Pixel brightness across different channels|\n",
    "|Videos | Pixels brightness across different channels for each frame |\n",
    "|Sound | Intensity over time |\n",
    "|Numbers | No need for transformation |\n",
    "|Tables | Mapping from strings to numbers |\n",
    "\n",
    "\n",
    "Therefore, the efficient storage and manipulation of large arrays of numbers is really fundamental to the process of doing data science. Numpy and pandas are the libraries within the SciPy stack that specialize in handling numerical arrays and data tables.\n",
    "\n",
    "[Numpy](http://www.numpy.org/) is short for _numerical python_, and provides functions that are especially useful when you have to work with large arrays and matrices of numeric data, like matrix multiplications.  \n",
    "\n",
    "The array object class is the foundation of Numpy, and Numpy arrays are like lists in Python, except that every thing inside an array must be of the same type, like int or float. As a result, arrays provide much more efficient storage and data operations, especially as the arrays grow larger in size. However, in other ways, NumPy arrays are very similar to Python's built-in list type, but with the exception of Vectorization."
   ]
  },
  {
   "cell_type": "markdown",
   "metadata": {
    "id": "eXTpHLAvk1dl"
   },
   "source": [
    "### Creating arrays"
   ]
  },
  {
   "cell_type": "code",
   "execution_count": 109,
   "metadata": {
    "id": "L17sEUjPk1dm"
   },
   "outputs": [
    {
     "name": "stdout",
     "output_type": "stream",
     "text": [
      "[[ 1  2  3  4  5]\n",
      " [ 6  7  8  9 10]] <class 'numpy.ndarray'>\n"
     ]
    }
   ],
   "source": [
    "import numpy as np\n",
    "\n",
    "# Create array from lists:\n",
    "ls = [[1,2,3,4,5],[6,7,8,9,10]]\n",
    "ary = np.array(ls)\n",
    "print(ary, type(ary))"
   ]
  },
  {
   "cell_type": "code",
   "execution_count": 3,
   "metadata": {
    "id": "OKQrczyVk1dn"
   },
   "outputs": [],
   "source": [
    "#array1 = np.array([2,3,4,5])\n",
    "#print(type(array1))"
   ]
  },
  {
   "cell_type": "markdown",
   "metadata": {
    "id": "dQkLwIrbk1dn"
   },
   "source": [
    "### Using array-generating functions\n",
    "\n",
    "For larger arrays it is inpractical to initialize the data manually, using explicit python lists. Instead we can use one of the many functions in numpy that generate arrays of different forms. Some of the more common are:\n"
   ]
  },
  {
   "cell_type": "markdown",
   "metadata": {
    "id": "hzVgXWTWk1do"
   },
   "source": [
    "### zeros and ones"
   ]
  },
  {
   "cell_type": "code",
   "execution_count": 4,
   "metadata": {
    "id": "NvfMZ3obk1dp"
   },
   "outputs": [],
   "source": [
    "# We use these when the elements of the\n",
    "# array are originally unknown but its size is known.\n",
    "\n",
    "#np.zeros((3,4))"
   ]
  },
  {
   "cell_type": "code",
   "execution_count": 5,
   "metadata": {
    "id": "HU3BSjWBk1dp"
   },
   "outputs": [],
   "source": [
    "#np.ones((2,3,4), dtype = np.int16)"
   ]
  },
  {
   "cell_type": "code",
   "execution_count": 6,
   "metadata": {
    "id": "grvmybofk1dq"
   },
   "outputs": [],
   "source": [
    "#np.ones((3,4,5))"
   ]
  },
  {
   "cell_type": "code",
   "execution_count": 7,
   "metadata": {
    "id": "c9XeUCjyk1dq"
   },
   "outputs": [],
   "source": [
    "# Return a new array of given shape and type, without initializing entries.\n",
    "#np.empty( (2,3) )\n",
    "#np.empty( (2,3), dtype=int )"
   ]
  },
  {
   "cell_type": "code",
   "execution_count": 8,
   "metadata": {
    "id": "yubY45Bvk1dr"
   },
   "outputs": [],
   "source": [
    "# Create a 3x5 array filled with 3.14\n",
    "#np.full((3, 5), 3.14)"
   ]
  },
  {
   "cell_type": "markdown",
   "metadata": {
    "id": "MH-BLyvnk1dr"
   },
   "source": [
    "### arange"
   ]
  },
  {
   "cell_type": "code",
   "execution_count": 9,
   "metadata": {
    "id": "yDRo9_I7k1dr"
   },
   "outputs": [],
   "source": [
    "# Large operations work too, and quickly\n",
    "#np.arange(10000)"
   ]
  },
  {
   "cell_type": "code",
   "execution_count": 10,
   "metadata": {
    "id": "t74UOVd_k1ds"
   },
   "outputs": [],
   "source": [
    "# prints the corners, mainly\n",
    "#np.arange(100).reshape(10,10)"
   ]
  },
  {
   "cell_type": "code",
   "execution_count": 11,
   "metadata": {
    "id": "MK61tmtnk1ds"
   },
   "outputs": [],
   "source": [
    "#new_array=np.arange(60).reshape(4,15)\n"
   ]
  },
  {
   "cell_type": "code",
   "execution_count": 12,
   "metadata": {
    "id": "RH6qA0Zt-ejq"
   },
   "outputs": [],
   "source": [
    "#new_array.reshape(20,3)#"
   ]
  },
  {
   "cell_type": "code",
   "execution_count": 13,
   "metadata": {
    "id": "f_Y6KW81-gam"
   },
   "outputs": [],
   "source": [
    "#new_array=np.arange(3,7,2)\n",
    "#print(new_array)"
   ]
  },
  {
   "cell_type": "markdown",
   "metadata": {
    "id": "uEIssGK4k1ds"
   },
   "source": [
    "### random data"
   ]
  },
  {
   "cell_type": "code",
   "execution_count": 14,
   "metadata": {
    "id": "2pq84HwJk1ds",
    "scrolled": true
   },
   "outputs": [],
   "source": [
    "# Create a 3x3 array of uniformly distributed\n",
    "# random values between 0 and 1\n",
    "# np.random.random((3, 3))"
   ]
  },
  {
   "cell_type": "code",
   "execution_count": 15,
   "metadata": {
    "id": "geI2eUnGk1dt"
   },
   "outputs": [],
   "source": [
    "# Create a 3x3 array of normally distributed random values\n",
    "# with mean 0 and standard deviation 1\n",
    "#np.random.normal(0, 1, (3, 3))"
   ]
  },
  {
   "cell_type": "code",
   "execution_count": 16,
   "metadata": {
    "id": "Dlt2bdDOk1dt"
   },
   "outputs": [],
   "source": [
    "#array2 = np.random.normal(0,1,(4,5))\n",
    "#print(array2)\n",
    "#np.mean(array2)\n"
   ]
  },
  {
   "cell_type": "code",
   "execution_count": 17,
   "metadata": {
    "id": "IcpE0cwik1dt"
   },
   "outputs": [],
   "source": [
    "# Create a 3x3 array of random integers in the interval [0, 10)\n",
    "#np.random.randint(0, 10, (3, 3))"
   ]
  },
  {
   "cell_type": "code",
   "execution_count": 18,
   "metadata": {
    "id": "1fMD3QcDk1dt"
   },
   "outputs": [],
   "source": [
    "# Create a 3x3 identity matrix\n",
    "#np.eye(3)"
   ]
  },
  {
   "cell_type": "code",
   "execution_count": 19,
   "metadata": {
    "id": "48gLO-Nkk1du"
   },
   "outputs": [],
   "source": [
    "# Create an uninitialized array of three integers\n",
    "# The values will be whatever happens to already exist at that memory location\n",
    "#np.empty(3)"
   ]
  },
  {
   "cell_type": "markdown",
   "metadata": {
    "id": "trRL9lStk1du"
   },
   "source": [
    "### linspace, logspace"
   ]
  },
  {
   "cell_type": "code",
   "execution_count": 20,
   "metadata": {
    "id": "UXRV8pYDk1du"
   },
   "outputs": [],
   "source": [
    "# Make several equally spaced points in linear space\n",
    "# linspace( start, stop, steps)\n",
    "#np.linspace(0,np.pi,5)"
   ]
  },
  {
   "cell_type": "code",
   "execution_count": 21,
   "metadata": {
    "id": "Z_3wY-Puk1du"
   },
   "outputs": [],
   "source": [
    "## create linear space numbers from 0 to 0.5 with 125 spaces\n",
    "\n",
    "#np.linspace(0, 0.5, 125)"
   ]
  },
  {
   "cell_type": "code",
   "execution_count": 22,
   "metadata": {
    "id": "3IbqmoH4k1du"
   },
   "outputs": [],
   "source": [
    "# Return numbers spaced evenly on a log scale.\n",
    "#np.logspace(0, 10, 10, base=np.e)"
   ]
  },
  {
   "cell_type": "markdown",
   "metadata": {
    "id": "LSzj4kZkk1du"
   },
   "source": [
    "### diag"
   ]
  },
  {
   "cell_type": "code",
   "execution_count": 23,
   "metadata": {
    "id": "fqRMl7rrk1dv"
   },
   "outputs": [],
   "source": [
    "# a diagonal matrix\n",
    "#np.diag([1,2,3])"
   ]
  },
  {
   "cell_type": "code",
   "execution_count": 24,
   "metadata": {
    "id": "W379bdd7k1dv"
   },
   "outputs": [],
   "source": [
    "# diagonal with offset from the main diagonal\n",
    "#np.diag([1,2,3], k=1)"
   ]
  },
  {
   "cell_type": "markdown",
   "metadata": {
    "id": "qLfrQ2e0k1dv"
   },
   "source": [
    "### Vectorization"
   ]
  },
  {
   "cell_type": "code",
   "execution_count": 25,
   "metadata": {
    "id": "7TAp1BUkk1dv"
   },
   "outputs": [],
   "source": [
    "#lis = [1,2,3,4,5]"
   ]
  },
  {
   "cell_type": "code",
   "execution_count": 26,
   "metadata": {
    "id": "lZSWWDtmk1dv"
   },
   "outputs": [],
   "source": [
    "#lis + lis"
   ]
  },
  {
   "cell_type": "code",
   "execution_count": 27,
   "metadata": {
    "id": "jo3DVaD6k1dv"
   },
   "outputs": [],
   "source": [
    "# See the difference???\n",
    "\n",
    "# np_array = np.array(lis)\n",
    "# np_array\n",
    "# np_array + np_array\n",
    "# np_array * np_array\n",
    "# np.sum(np_array)\n",
    "# np.mean(np_array)\n"
   ]
  },
  {
   "cell_type": "code",
   "execution_count": 28,
   "metadata": {},
   "outputs": [],
   "source": [
    "#np_array + np_array\n"
   ]
  },
  {
   "cell_type": "code",
   "execution_count": 29,
   "metadata": {
    "id": "-wEjAVxHk1dw"
   },
   "outputs": [],
   "source": [
    "# Doing the same using normal lists requires a loop!\n",
    "#print([x+x for x in lis])\n",
    "#print([x**2 for x in lis])"
   ]
  },
  {
   "cell_type": "markdown",
   "metadata": {
    "id": "1zn1zk15k1dw"
   },
   "source": [
    "So we call operations on numpy arrays **vectorized**.  For almost all data intensive computing, we use numpy because of this feature, and because the whole scientific and numerical python stack is based on numpy.  \n",
    "\n",
    "To explain it another way, in a spreadsheet you would add an entire column to another one by writing a formula in the first cell and autofilling the rest of the column.  Numpy allows you to do such commands in one go.  \n",
    "\n",
    "\n",
    "\n"
   ]
  },
  {
   "cell_type": "code",
   "execution_count": 30,
   "metadata": {
    "id": "SvT8JG5Lk1dw"
   },
   "outputs": [],
   "source": [
    "\n",
    "# array = np.array([1, 4, 5, 8], float)\n",
    "# print(array)\n",
    "# print(\"\")\n",
    "# array = np.array([[1, 2, 3], [4, 5, 6]], float)  # a 2D array/Matrix\n",
    "# print(array)\n"
   ]
  },
  {
   "cell_type": "markdown",
   "metadata": {
    "id": "keBLm2M7k1dw"
   },
   "source": [
    "Numpy has all of its functionality written in _compiled_ code written in C, that is much faster.  But this can only be the case because all of the items in the numpy array are of the same data type! (i.e. Python is dynamically typed whereas C is not - this gives extra flexibility and simplicity to Python, but makes it slower)."
   ]
  },
  {
   "cell_type": "code",
   "execution_count": 31,
   "metadata": {
    "colab": {
     "base_uri": "https://localhost:8080/"
    },
    "id": "jUDnw1PAk1dw",
    "outputId": "45ebf9aa-266d-48d1-b207-d8d79e6d1f69"
   },
   "outputs": [],
   "source": [
    "\n",
    "# big_array = np.random.rand(1000000)\n",
    "# %timeit sum(big_array)\n",
    "# %timeit np.sum(big_array)\n"
   ]
  },
  {
   "cell_type": "markdown",
   "metadata": {
    "id": "5kLUfr9Mk1dx"
   },
   "source": [
    "You can index, slice, and manipulate a Numpy ***array*** much like you would with a Python list.\n",
    "\n",
    "Python has a certain way of doing things. For example lets call one of these ways listiness. Listiness works on lists, dictionaries, files, and a general notion of something called an iterator.\n",
    "\n",
    "That's because they both support **the iterator protocol** - when something behaves in a list-like way."
   ]
  },
  {
   "cell_type": "markdown",
   "metadata": {
    "id": "UdcEhohxk1dx"
   },
   "source": [
    "## Broadcasting\n",
    "\n",
    "Broadcasting is simply a set of rules for applying binary ufuncs (e.g., addition, subtraction, multiplication, etc.) on arrays of different sizes."
   ]
  },
  {
   "cell_type": "code",
   "execution_count": 32,
   "metadata": {
    "id": "Pvu_PMn8k1dx"
   },
   "outputs": [],
   "source": [
    "\n",
    "# M = np.ones((3, 3))\n",
    "# M\n"
   ]
  },
  {
   "cell_type": "code",
   "execution_count": 33,
   "metadata": {
    "id": "i74THU4Qk1dx"
   },
   "outputs": [],
   "source": [
    "#M + 5"
   ]
  },
  {
   "cell_type": "code",
   "execution_count": 34,
   "metadata": {
    "id": "_xhMPIjZk1dx"
   },
   "outputs": [
    {
     "data": {
      "text/plain": [
       "'\\na = np.arange(3)\\nb = np.arange(3)[:, np.newaxis]\\n\\nprint(a)\\nprint(b)\\n'"
      ]
     },
     "execution_count": 34,
     "metadata": {},
     "output_type": "execute_result"
    }
   ],
   "source": [
    "'''\n",
    "a = np.arange(3)\n",
    "b = np.arange(3)[:, np.newaxis]\n",
    "\n",
    "print(a)\n",
    "print(b)\n",
    "'''"
   ]
  },
  {
   "cell_type": "code",
   "execution_count": 35,
   "metadata": {
    "id": "litTE_cxk1dx"
   },
   "outputs": [],
   "source": [
    "#a + b"
   ]
  },
  {
   "cell_type": "markdown",
   "metadata": {
    "id": "DgL1zPebk1dy"
   },
   "source": [
    "## Rules of Broadcasting\n",
    "\n",
    "Broadcasting in NumPy follows a strict set of rules to determine the interaction between the two arrays:\n",
    "\n",
    "- **Rule 1:** If the two arrays differ in their number of dimensions, the shape of the one with fewer dimensions is *padded* with ones on its leading (left) side.\n",
    "- **Rule 2:** If the shape of the two arrays does not match in any dimension, the array with shape equal to 1 in that dimension is stretched to match the other shape.\n",
    "- **Rule 3:** If in any dimension the sizes disagree and neither is equal to 1, an error is raised.\n",
    "\n",
    "To make these rules clear, let's consider a few examples in detail."
   ]
  },
  {
   "cell_type": "code",
   "execution_count": 36,
   "metadata": {
    "id": "5jHL67Mtk1dy"
   },
   "outputs": [],
   "source": [
    "# Rule one\n",
    "# M = np.ones((2, 3))\n",
    "# a = np.arange(3)\n",
    "# M + a"
   ]
  },
  {
   "cell_type": "code",
   "execution_count": 37,
   "metadata": {
    "id": "YMzWJDVLk1dy"
   },
   "outputs": [],
   "source": [
    "# Rule two\n",
    "#a = np.arange(3).reshape((3, 1))\n",
    "#b = np.arange(3)\n",
    "#print(a,b)"
   ]
  },
  {
   "cell_type": "code",
   "execution_count": 38,
   "metadata": {
    "id": "tY_-jjBUk1dy"
   },
   "outputs": [],
   "source": [
    "#a + b"
   ]
  },
  {
   "cell_type": "code",
   "execution_count": 39,
   "metadata": {
    "id": "tsPDIkY2k1dz"
   },
   "outputs": [],
   "source": [
    "# Rule three\n",
    "#M = np.ones((3, 2))\n",
    "#a = np.arange(3)\n",
    "#M + a"
   ]
  },
  {
   "cell_type": "code",
   "execution_count": 40,
   "metadata": {
    "id": "ggmQHEtgk1dz"
   },
   "outputs": [],
   "source": [
    "# To get over the problem:\n",
    "#a[:, np.newaxis].shape"
   ]
  },
  {
   "cell_type": "code",
   "execution_count": 41,
   "metadata": {
    "id": "WfCCxeJsk1dz"
   },
   "outputs": [],
   "source": [
    "#M + a[:, np.newaxis]"
   ]
  },
  {
   "cell_type": "code",
   "execution_count": 42,
   "metadata": {
    "id": "vBGitW9Lk1dz"
   },
   "outputs": [],
   "source": [
    "#np.logaddexp(M, a[:, np.newaxis])"
   ]
  },
  {
   "cell_type": "markdown",
   "metadata": {
    "id": "2JRfWx2bk1dz"
   },
   "source": [
    "## Manipulating arrays\n",
    "\n",
    "### Indexing\n",
    "We can index elements in an array using square brackets and indices:"
   ]
  },
  {
   "cell_type": "code",
   "execution_count": 43,
   "metadata": {
    "id": "NbqWaI-wk1dz"
   },
   "outputs": [],
   "source": [
    "# a vector: the argument to the array function is a Python list\n",
    "#v = np.array([1,2,3,4])\n",
    "#v[0]"
   ]
  },
  {
   "cell_type": "code",
   "execution_count": 44,
   "metadata": {
    "id": "MqD4xsdIk1dz"
   },
   "outputs": [],
   "source": [
    "#np.random.seed(1234)\n",
    "#M = np.random.random([3,3])\n",
    "#print(M)\n",
    "# M is a matrix, or a 2 dimensional array, taking two indices\n",
    "#M[1,1]"
   ]
  },
  {
   "cell_type": "markdown",
   "metadata": {
    "id": "FumDG5OTk1d0"
   },
   "source": [
    "## Array Slicing: Accessing Subarrays\n",
    "\n",
    "Just as we can use square brackets to access individual array elements, we can also use them to access subarrays with the *slice* notation, marked by the colon (``:``) character.\n",
    "The NumPy slicing syntax follows that of the standard Python list; to access a slice of an array ``x``, use this:\n",
    "``` python\n",
    "x[start:stop:step]\n",
    "```\n",
    "If any of these are unspecified, they default to the values ``start=0``, ``stop=``*``size of dimension``*, ``step=1``.\n",
    "We'll take a look at accessing sub-arrays in one dimension and in multiple dimensions.\n",
    "\n",
    "Source: _Python Data Science Handbook_"
   ]
  },
  {
   "cell_type": "markdown",
   "metadata": {
    "id": "24e7AETlk1d0"
   },
   "source": [
    "If we omit an index of a multidimensional array it returns the whole row (or, in general, a N-1 dimensional array)"
   ]
  },
  {
   "cell_type": "code",
   "execution_count": 45,
   "metadata": {
    "id": "PYLrA6z6k1d0"
   },
   "outputs": [],
   "source": [
    "#M"
   ]
  },
  {
   "cell_type": "code",
   "execution_count": 46,
   "metadata": {
    "id": "LE1Yb7rHk1d0"
   },
   "outputs": [],
   "source": [
    "#M[1]"
   ]
  },
  {
   "cell_type": "markdown",
   "metadata": {
    "id": "T2vUAi82k1d0"
   },
   "source": [
    "The same thing can be achieved with using : instead of an index:"
   ]
  },
  {
   "cell_type": "code",
   "execution_count": 47,
   "metadata": {
    "id": "-y0-oEK_k1d0"
   },
   "outputs": [],
   "source": [
    "#M[1,:] #row 1"
   ]
  },
  {
   "cell_type": "code",
   "execution_count": 48,
   "metadata": {
    "id": "N8zL8W16k1d1"
   },
   "outputs": [],
   "source": [
    "#M[:,1] #column 1"
   ]
  },
  {
   "cell_type": "markdown",
   "metadata": {
    "id": "dUjv6uPMk1d1"
   },
   "source": [
    "We can assign new values to elements in an array using indexing:"
   ]
  },
  {
   "cell_type": "code",
   "execution_count": 49,
   "metadata": {
    "id": "FU0p5VeIk1d1"
   },
   "outputs": [],
   "source": [
    "#M[0,0] = 1"
   ]
  },
  {
   "cell_type": "code",
   "execution_count": 50,
   "metadata": {
    "id": "k70TDZXlk1d1"
   },
   "outputs": [],
   "source": [
    "#M"
   ]
  },
  {
   "cell_type": "code",
   "execution_count": 51,
   "metadata": {
    "id": "C5e-tG2Ik1d1"
   },
   "outputs": [],
   "source": [
    "#show all elements for column 1st and 3rd\n",
    "\n",
    "#M[:,0:3:2]"
   ]
  },
  {
   "cell_type": "code",
   "execution_count": 52,
   "metadata": {
    "id": "FDxjAfp_k1d1"
   },
   "outputs": [],
   "source": [
    "# also works for rows and columns\n",
    "#M[1,:] = 0\n",
    "#M[:,2] = -1"
   ]
  },
  {
   "cell_type": "code",
   "execution_count": 53,
   "metadata": {
    "id": "wA31-Hszk1d1"
   },
   "outputs": [],
   "source": [
    "#M\n",
    "# np.shape(M)"
   ]
  },
  {
   "cell_type": "markdown",
   "metadata": {
    "id": "vegWagD7k1d1"
   },
   "source": [
    "### Index Slicing\n",
    "Index slicing is the technical name for the syntax M[lower:upper:step] to extract part of an array:"
   ]
  },
  {
   "cell_type": "code",
   "execution_count": 54,
   "metadata": {
    "id": "NytFq5k1k1d2"
   },
   "outputs": [],
   "source": [
    "#A = np.array([1,2,3,4,5])\n",
    "#A"
   ]
  },
  {
   "cell_type": "code",
   "execution_count": 55,
   "metadata": {
    "id": "cRaOV889k1d2"
   },
   "outputs": [],
   "source": [
    "#check for dimension: shape\n",
    "#np.shape(A)"
   ]
  },
  {
   "cell_type": "code",
   "execution_count": 56,
   "metadata": {
    "id": "Xo-86Uy4k1d2"
   },
   "outputs": [],
   "source": [
    "#A[1:3]"
   ]
  },
  {
   "cell_type": "markdown",
   "metadata": {
    "id": "3KgRENBpk1d2"
   },
   "source": [
    "Array slices are mutable: if they are assigned a new value the original array from which the slice was extracted is modified:"
   ]
  },
  {
   "cell_type": "code",
   "execution_count": 57,
   "metadata": {
    "id": "0n0kl6S7k1d2"
   },
   "outputs": [],
   "source": [
    "#A[1:3] = [-2,-3]\n",
    "\n",
    "#A"
   ]
  },
  {
   "cell_type": "markdown",
   "metadata": {
    "id": "JL4alL3jk1d2"
   },
   "source": [
    "We can omit any of the three parameters in M[lower:upper:step]:"
   ]
  },
  {
   "cell_type": "code",
   "execution_count": 58,
   "metadata": {
    "id": "7EAoIrEQk1d2"
   },
   "outputs": [],
   "source": [
    "#A[::] # lower, upper, step all take the default values"
   ]
  },
  {
   "cell_type": "code",
   "execution_count": 59,
   "metadata": {
    "id": "XbQYRC6mk1d2"
   },
   "outputs": [],
   "source": [
    "#A[::2] # step is 2, lower and upper defaults to the beginning and end of the array"
   ]
  },
  {
   "cell_type": "code",
   "execution_count": 60,
   "metadata": {
    "id": "fB2vDGFLk1d3"
   },
   "outputs": [],
   "source": [
    "# first three elements\n",
    "#A[:3]"
   ]
  },
  {
   "cell_type": "code",
   "execution_count": 61,
   "metadata": {
    "id": "-YfJ6nIzk1d3"
   },
   "outputs": [],
   "source": [
    "# elements from index 3\n"
   ]
  },
  {
   "cell_type": "markdown",
   "metadata": {
    "id": "073KqMKSk1d3"
   },
   "source": [
    "Index slicing works exactly the same way for multidimensional arrays:\n"
   ]
  },
  {
   "cell_type": "code",
   "execution_count": 62,
   "metadata": {
    "id": "nUsEiTJpk1d3"
   },
   "outputs": [],
   "source": [
    "#import numpy as np\n",
    "#A = np.array([[n+m*10 for n in range(5)] for m in range(5)])\n",
    "\n",
    "\n",
    "#print(np.shape(A))\n",
    "#print(A)"
   ]
  },
  {
   "cell_type": "code",
   "execution_count": 63,
   "metadata": {
    "id": "HVifHElck1d3"
   },
   "outputs": [],
   "source": [
    "# a block from the original array\n",
    "#A[1:4, 1:4]"
   ]
  },
  {
   "cell_type": "code",
   "execution_count": 64,
   "metadata": {
    "id": "ZyQyMrNok1d3"
   },
   "outputs": [],
   "source": [
    "# strides\n",
    "#A[::2, ::2]"
   ]
  },
  {
   "cell_type": "markdown",
   "metadata": {
    "id": "Y35TswIFk1d3"
   },
   "source": [
    "### Fancy indexing\n",
    "Fancy indexing is the name for when an array or list is used in-place of an index:"
   ]
  },
  {
   "cell_type": "code",
   "execution_count": 65,
   "metadata": {
    "id": "43ZuMVYOk1d3"
   },
   "outputs": [],
   "source": [
    "#row_indices = [1, 2, 3]\n",
    "#A[row_indices]\n",
    "#A[[1,2,3]]\n",
    "#A[1:4,:]"
   ]
  },
  {
   "cell_type": "code",
   "execution_count": 66,
   "metadata": {
    "id": "O5Lq34ztk1d4"
   },
   "outputs": [],
   "source": [
    "#col_indices = [1, 2, -1] # remember, index -1 means the last element\n",
    "#A[row_indices, col_indices]\n",
    "\n",
    "#A[[1,2,3],[1,2,-1]]"
   ]
  },
  {
   "cell_type": "code",
   "execution_count": 67,
   "metadata": {
    "id": "hMfK0fG_k1d4"
   },
   "outputs": [],
   "source": [
    "#show 32, 23 and 14\n",
    "\n",
    "#A[[3,2,1],[2,3,4]]\n"
   ]
  },
  {
   "cell_type": "markdown",
   "metadata": {
    "id": "fwBjAozOk1d4"
   },
   "source": [
    "We can also use index masks: If the index mask is an Numpy array of data type bool, then an element is selected (True) or not (False) depending on the value of the index mask at the position of each element:"
   ]
  },
  {
   "cell_type": "code",
   "execution_count": 68,
   "metadata": {
    "id": "PLA9wbIRk1d4"
   },
   "outputs": [],
   "source": [
    "#B = np.array([n for n in range(5)])\n",
    "#B"
   ]
  },
  {
   "cell_type": "code",
   "execution_count": 69,
   "metadata": {
    "id": "vAg6hqqSk1d4"
   },
   "outputs": [],
   "source": [
    "#row_mask = np.array([True, False, True, False, False])\n",
    "#B[row_mask]"
   ]
  },
  {
   "cell_type": "markdown",
   "metadata": {
    "id": "SbOgvo-Kk1d4"
   },
   "source": [
    "This feature is very useful to conditionally select elements from an array, using for example comparison operators:"
   ]
  },
  {
   "cell_type": "code",
   "execution_count": 70,
   "metadata": {
    "id": "fUPspKckk1d5"
   },
   "outputs": [],
   "source": [
    "#x = np.arange(0, 10, 0.5)\n",
    "#x"
   ]
  },
  {
   "cell_type": "code",
   "execution_count": 71,
   "metadata": {
    "id": "GwhOlwFbk1d5"
   },
   "outputs": [],
   "source": [
    "#mask = (x > 5) * (x < 7.5)\n",
    "\n",
    "#mask"
   ]
  },
  {
   "cell_type": "code",
   "execution_count": 72,
   "metadata": {
    "id": "tHLwL7Nck1d5"
   },
   "outputs": [],
   "source": [
    "#x[mask]\n",
    "\n",
    "#x[(x>5)*(x<7.5)]"
   ]
  },
  {
   "cell_type": "code",
   "execution_count": 73,
   "metadata": {
    "id": "yCcEQTzBk1d5"
   },
   "outputs": [],
   "source": [
    "#show x value more than 8.0\n",
    "\n",
    "#x[x>8]"
   ]
  },
  {
   "cell_type": "markdown",
   "metadata": {
    "id": "LzhJ6tXNk1d5"
   },
   "source": [
    "### Using arrays in conditions\n",
    "\n",
    "When using arrays in conditions,for example ```if``` statements and other boolean expressions, one needs to use ```any``` or ```all```, which requires that any or all elements in the array evalutes to ```True```:"
   ]
  },
  {
   "cell_type": "code",
   "execution_count": 74,
   "metadata": {
    "id": "oavii5IHk1d5"
   },
   "outputs": [],
   "source": [
    "#M = np.array([[ 1,  4],[ 9, 16]])\n",
    "#M"
   ]
  },
  {
   "cell_type": "code",
   "execution_count": 75,
   "metadata": {
    "id": "zOqMcHv1k1d5"
   },
   "outputs": [],
   "source": [
    "#any\n",
    "#if (M > 5).any():\n",
    "#    print(\"at least one element in M is larger than 5\")\n",
    "#else:\n",
    "#    print(\"no element in M is larger than 5\")"
   ]
  },
  {
   "cell_type": "code",
   "execution_count": 76,
   "metadata": {
    "id": "WCLjvy6ok1d6"
   },
   "outputs": [],
   "source": [
    "#all\n",
    "#if (M > 5).all():\n",
    "#    print(\"all elements in M are larger than 5\")\n",
    "#else:\n",
    "#    print(\"all elements in M are not larger than 5\")"
   ]
  },
  {
   "cell_type": "markdown",
   "metadata": {
    "id": "aRhT5-kyk1d6"
   },
   "source": [
    "## Functions for extracting data from arrays and creating arrays\n",
    "\n",
    "**where**\n",
    "\n",
    "The index mask can be converted to position index using the where function"
   ]
  },
  {
   "cell_type": "code",
   "execution_count": 77,
   "metadata": {
    "id": "nfhW1_s0k1d6"
   },
   "outputs": [],
   "source": [
    "#mask = (x > 5) * (x < 7.5)\n",
    "\n",
    "#indices = np.where(mask)\n",
    "\n",
    "#indices\n"
   ]
  },
  {
   "cell_type": "code",
   "execution_count": 78,
   "metadata": {
    "id": "yMIkpDDgk1d6"
   },
   "outputs": [],
   "source": [
    "#x[indices] # this indexing is equivalent to the fancy indexing x[mask]\n"
   ]
  },
  {
   "cell_type": "markdown",
   "metadata": {
    "id": "NwIrs7Bhk1d6"
   },
   "source": [
    "## Linear algebra\n",
    "\n",
    "Vectorizing code is the key to writing efficient numerical calculation with Python/Numpy. That means that as much as possible of a program should be formulated in terms of matrix and vector operations, like matrix-matrix multiplication.\n",
    "\n",
    "### Scalar-array operations\n",
    "We can use the usual arithmetic operators to multiply, add, subtract, and divide arrays with scalar numbers."
   ]
  },
  {
   "cell_type": "code",
   "execution_count": 79,
   "metadata": {
    "id": "sN9vn29ak1d6"
   },
   "outputs": [],
   "source": [
    "#v1 = np.arange(0, 5)\n",
    "#v1"
   ]
  },
  {
   "cell_type": "code",
   "execution_count": 80,
   "metadata": {
    "id": "a6A_lFRjk1d6"
   },
   "outputs": [],
   "source": [
    "#v1 * 2"
   ]
  },
  {
   "cell_type": "code",
   "execution_count": 81,
   "metadata": {
    "id": "EvhppOA2k1d7"
   },
   "outputs": [],
   "source": [
    "#v1 + 2"
   ]
  },
  {
   "cell_type": "code",
   "execution_count": 82,
   "metadata": {
    "id": "BEHXKITmk1d7"
   },
   "outputs": [],
   "source": [
    "#A"
   ]
  },
  {
   "cell_type": "code",
   "execution_count": 83,
   "metadata": {
    "id": "Lbv7MtEXk1d7"
   },
   "outputs": [],
   "source": [
    "#A * 2"
   ]
  },
  {
   "cell_type": "markdown",
   "metadata": {
    "id": "op46neuYk1d7"
   },
   "source": [
    "### Element-wise array-array operations\n",
    "\n",
    "When we add, subtract, multiply and divide arrays with each other, the default behaviour is element-wise operations:"
   ]
  },
  {
   "cell_type": "code",
   "execution_count": 84,
   "metadata": {
    "id": "926_mChNk1d7"
   },
   "outputs": [],
   "source": [
    "#A * A # element-wise multiplication"
   ]
  },
  {
   "cell_type": "code",
   "execution_count": 85,
   "metadata": {
    "id": "43UtPsNLk1d7"
   },
   "outputs": [],
   "source": [
    "#v1 * v1"
   ]
  },
  {
   "cell_type": "markdown",
   "metadata": {
    "id": "VgEnC0jJk1d7"
   },
   "source": [
    "If we multiply arrays with compatible shapes, we get an element-wise multiplication of each row:\n"
   ]
  },
  {
   "cell_type": "code",
   "execution_count": 86,
   "metadata": {
    "id": "fk9e0EVtk1d8"
   },
   "outputs": [],
   "source": [
    "#A.shape, v1.shape"
   ]
  },
  {
   "cell_type": "code",
   "execution_count": 87,
   "metadata": {
    "id": "fbcuU7pMk1d8"
   },
   "outputs": [],
   "source": [
    "#A * v1"
   ]
  },
  {
   "cell_type": "markdown",
   "metadata": {
    "id": "ow9og0FTk1d8"
   },
   "source": [
    "### Matrix algebra\n",
    "\n",
    "What about matrix mutiplication? There are two ways. We can either use the dot function, which applies a matrix-matrix, matrix-vector, or inner vector multiplication to its two arguments:"
   ]
  },
  {
   "cell_type": "code",
   "execution_count": 88,
   "metadata": {
    "id": "3_8MME1gk1d8"
   },
   "outputs": [],
   "source": [
    "#np.dot(A,A)"
   ]
  },
  {
   "cell_type": "code",
   "execution_count": 89,
   "metadata": {
    "id": "ehpRdQNSk1d8"
   },
   "outputs": [],
   "source": [
    "#A1 = np.array([[1,2],[3,4]])\n",
    "#np.shape(A1)\n",
    "\n",
    "#B1 = np.array([[1, 2, 3],[4,5,6],[7,8,9]])\n",
    "#np.shape(B1)\n",
    "\n",
    "#np.dot(A1,B1)"
   ]
  },
  {
   "cell_type": "code",
   "execution_count": 90,
   "metadata": {
    "id": "3RovsLcok1d8"
   },
   "outputs": [],
   "source": [
    "#np.dot(A, v1)"
   ]
  },
  {
   "cell_type": "code",
   "execution_count": 91,
   "metadata": {
    "id": "KiIJaE9Ek1d8"
   },
   "outputs": [],
   "source": [
    "#np.matmul(A,v1)"
   ]
  },
  {
   "cell_type": "code",
   "execution_count": 92,
   "metadata": {
    "id": "INk48Cshk1d8"
   },
   "outputs": [],
   "source": [
    "#np.dot(v1,v1)"
   ]
  },
  {
   "cell_type": "markdown",
   "metadata": {
    "id": "47IhSEpMk1d9"
   },
   "source": [
    "Alternatively, we can cast the array objects to the type matrix. This changes the behavior of the standard arithmetic operators +, -, * to use matrix algebra."
   ]
  },
  {
   "cell_type": "code",
   "execution_count": 93,
   "metadata": {
    "id": "q_rYYXztk1d9"
   },
   "outputs": [],
   "source": [
    "#A"
   ]
  },
  {
   "cell_type": "code",
   "execution_count": 94,
   "metadata": {
    "id": "Bx5rk2NGk1d9"
   },
   "outputs": [],
   "source": [
    "#v1"
   ]
  },
  {
   "cell_type": "code",
   "execution_count": 95,
   "metadata": {
    "id": "8wDAbgOzk1d9"
   },
   "outputs": [],
   "source": [
    "#M = np.matrix(A)\n",
    "#v = np.matrix(v1).T # make it a column vector"
   ]
  },
  {
   "cell_type": "code",
   "execution_count": 96,
   "metadata": {
    "id": "flE6SYVkk1d9"
   },
   "outputs": [],
   "source": [
    "#M"
   ]
  },
  {
   "cell_type": "code",
   "execution_count": 97,
   "metadata": {
    "id": "tipYD1Izk1d9"
   },
   "outputs": [],
   "source": [
    "#v"
   ]
  },
  {
   "cell_type": "code",
   "execution_count": 98,
   "metadata": {
    "id": "NDLqXHcSk1d9"
   },
   "outputs": [],
   "source": [
    "#M * M"
   ]
  },
  {
   "cell_type": "code",
   "execution_count": 99,
   "metadata": {
    "id": "bvT267Rsk1d9"
   },
   "outputs": [],
   "source": [
    "#M * v"
   ]
  },
  {
   "cell_type": "markdown",
   "metadata": {
    "id": "TqsTW6Edk1d-"
   },
   "source": [
    "If we try to add, subtract or multiply objects with incomplatible shapes we get an error:\n"
   ]
  },
  {
   "cell_type": "code",
   "execution_count": 100,
   "metadata": {
    "id": "bY1C37IZk1d-"
   },
   "outputs": [],
   "source": [
    "#v = np.matrix([1,2,3,4,5,6])"
   ]
  },
  {
   "cell_type": "code",
   "execution_count": 101,
   "metadata": {
    "id": "66tvtUmUk1d-"
   },
   "outputs": [],
   "source": [
    "#v.T"
   ]
  },
  {
   "cell_type": "code",
   "execution_count": 102,
   "metadata": {
    "id": "4cVdFBIck1d-"
   },
   "outputs": [],
   "source": [
    "#np.shape(M), np.shape(v)"
   ]
  },
  {
   "cell_type": "code",
   "execution_count": 103,
   "metadata": {
    "id": "uPikgEosk1d-"
   },
   "outputs": [],
   "source": [
    "#M * v #error due to different dimension"
   ]
  },
  {
   "cell_type": "markdown",
   "metadata": {
    "id": "dvKy-f9zk1d-"
   },
   "source": [
    "## NumPy Standard Data Types\n",
    "\n",
    "NumPy arrays contain values of a single type, so it is important to have detailed knowledge of those types and their limitations.\n",
    "Because NumPy is built in C, the types will be familiar to users of C, Fortran, and other related languages.\n",
    "\n",
    "The standard NumPy data types are listed in the following table.\n",
    "Note that when constructing an array, they can be specified using a string:\n",
    "\n",
    "```python\n",
    "np.zeros(10, dtype='int16')\n",
    "```\n",
    "\n",
    "Or using the associated NumPy object:\n",
    "\n",
    "```python\n",
    "np.zeros(10, dtype=np.int16)\n",
    "```\n",
    "\n",
    "| Data type\t    | Description |\n",
    "|---------------|-------------|\n",
    "| ``bool_``     | Boolean (True or False) stored as a byte |\n",
    "| ``int_``      | Default integer type (same as C ``long``; normally either ``int64`` or ``int32``)|\n",
    "| ``intc``      | Identical to C ``int`` (normally ``int32`` or ``int64``)|\n",
    "| ``intp``      | Integer used for indexing (same as C ``ssize_t``; normally either ``int32`` or ``int64``)|\n",
    "| ``int8``      | Byte (-128 to 127)|\n",
    "| ``int16``     | Integer (-32768 to 32767)|\n",
    "| ``int32``     | Integer (-2147483648 to 2147483647)|\n",
    "| ``int64``     | Integer (-9223372036854775808 to 9223372036854775807)|\n",
    "| ``uint8``     | Unsigned integer (0 to 255)|\n",
    "| ``uint16``    | Unsigned integer (0 to 65535)|\n",
    "| ``uint32``    | Unsigned integer (0 to 4294967295)|\n",
    "| ``uint64``    | Unsigned integer (0 to 18446744073709551615)|\n",
    "| ``float_``    | Shorthand for ``float64``.|\n",
    "| ``float16``   | Half precision float: sign bit, 5 bits exponent, 10 bits mantissa|\n",
    "| ``float32``   | Single precision float: sign bit, 8 bits exponent, 23 bits mantissa|\n",
    "| ``float64``   | Double precision float: sign bit, 11 bits exponent, 52 bits mantissa|\n",
    "| ``complex_``  | Shorthand for ``complex128``.|\n",
    "| ``complex64`` | Complex number, represented by two 32-bit floats|\n",
    "| ``complex128``| Complex number, represented by two 64-bit floats|\n",
    "\n",
    "More advanced type specification is possible, such as specifying big or little endian numbers; for more information, refer to the [NumPy documentation](http://numpy.org/).\n",
    "NumPy also supports compound data types, which will be covered in [Structured Data: NumPy's Structured Arrays](02.09-Structured-Data-NumPy.ipynb).\n",
    "\n",
    "Source: Jake VanderPlas's _Python Data Science Handbook_"
   ]
  },
  {
   "cell_type": "markdown",
   "metadata": {
    "id": "TnoSP_95k1d-"
   },
   "source": [
    "## Calculations with higher-dimensional data\n",
    "\n",
    "When functions such as min, max, etc. are applied to a multidimensional arrays, it is sometimes useful to apply the calculation to the entire array, and sometimes only on a row or column basis. Using the axis argument we can specify how these functions should behave:"
   ]
  },
  {
   "cell_type": "code",
   "execution_count": 104,
   "metadata": {
    "id": "66PYwnPMk1d-"
   },
   "outputs": [],
   "source": [
    "#m = np.random.rand(3,3)\n",
    "#m"
   ]
  },
  {
   "cell_type": "code",
   "execution_count": 105,
   "metadata": {
    "id": "N5sn_Higk1d_"
   },
   "outputs": [],
   "source": [
    "# global max\n",
    "#m.max()"
   ]
  },
  {
   "cell_type": "code",
   "execution_count": 106,
   "metadata": {
    "id": "v7HtpDoQk1d_"
   },
   "outputs": [],
   "source": [
    "# max in each column, hint: axis = 0\n"
   ]
  },
  {
   "cell_type": "code",
   "execution_count": 107,
   "metadata": {
    "id": "8a2BGE5Tk1d_"
   },
   "outputs": [],
   "source": [
    "# max in each row\n"
   ]
  },
  {
   "cell_type": "markdown",
   "metadata": {
    "id": "wc9MehPkk1d_"
   },
   "source": [
    "### Other aggregation functions\n",
    "\n",
    "NumPy provides many other aggregation functions, but we won't discuss them in detail here.\n",
    "Additionally, most aggregates have a ``NaN``-safe counterpart that computes the result while ignoring missing values, which are marked by the special IEEE floating-point ``NaN`` value (for a fuller discussion of missing data, see [Handling Missing Data](03.04-Missing-Values.ipynb)).\n",
    "Some of these ``NaN``-safe functions were not added until NumPy 1.8, so they will not be available in older NumPy versions.\n",
    "\n",
    "The following table provides a list of useful aggregation functions available in NumPy:\n",
    "\n",
    "|Function Name      |   NaN-safe Version  | Description                                   |\n",
    "|-------------------|---------------------|-----------------------------------------------|\n",
    "| ``np.sum``        | ``np.nansum``       | Compute sum of elements                       |\n",
    "| ``np.prod``       | ``np.nanprod``      | Compute product of elements                   |\n",
    "| ``np.mean``       | ``np.nanmean``      | Compute mean of elements                      |\n",
    "| ``np.std``        | ``np.nanstd``       | Compute standard deviation                    |\n",
    "| ``np.var``        | ``np.nanvar``       | Compute variance                              |\n",
    "| ``np.min``        | ``np.nanmin``       | Find minimum value                            |\n",
    "| ``np.max``        | ``np.nanmax``       | Find maximum value                            |\n",
    "| ``np.argmin``     | ``np.nanargmin``    | Find index of minimum value                   |\n",
    "| ``np.argmax``     | ``np.nanargmax``    | Find index of maximum value                   |\n",
    "| ``np.median``     | ``np.nanmedian``    | Compute median of elements                    |\n",
    "| ``np.percentile`` | ``np.nanpercentile``| Compute rank-based statistics of elements     |\n",
    "| ``np.any``        | N/A                 | Evaluate whether any elements are true        |\n",
    "| ``np.all``        | N/A                 | Evaluate whether all elements are true        |\n",
    "\n",
    "Source: Python Data Science Handbook"
   ]
  },
  {
   "cell_type": "markdown",
   "metadata": {
    "id": "EMPBJziak1d_"
   },
   "source": [
    "# Resources:  \n",
    "- [numpy Quickstart Guide](https://docs.scipy.org/doc/numpy-dev/user/quickstart.html)  \n",
    "- [Rahul Dave's CS109 lab1 content at Harvard](https://github.com/cs109/2015lab1)  \n",
    "- [The Data Incubator](https://www.thedataincubator.com)  \n",
    "- [Python Data Science Handbook](https://github.com/jakevdp/PythonDataScienceHandbook)"
   ]
  }
 ],
 "metadata": {
  "anaconda-cloud": {},
  "colab": {
   "provenance": []
  },
  "kernelspec": {
   "display_name": "Python 3 (ipykernel)",
   "language": "python",
   "name": "python3"
  },
  "language_info": {
   "codemirror_mode": {
    "name": "ipython",
    "version": 3
   },
   "file_extension": ".py",
   "mimetype": "text/x-python",
   "name": "python",
   "nbconvert_exporter": "python",
   "pygments_lexer": "ipython3",
   "version": "3.11.5"
  }
 },
 "nbformat": 4,
 "nbformat_minor": 4
}
