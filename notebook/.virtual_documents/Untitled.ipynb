


import pandas as pd
import numpy as np
import matplotlib.pyplot as plt
from matplotlib import style


 house_df=pd.read_csv('dataset/housedata/data.csv')


house_df.head()


house_df.describe()


house_df.shape


ax=plt.axes()
ax.hist(house_df.yr_built, bins=30)
ax.set(xlabel='Sepal Width in cm', ylabel='frequency')


ax = plt.axes()
plt.scatter(petalLength, petalWidth, label='Petal', color='blue')
plt.xlabel('Length')
plt.ylabel('Width')
plt.scatter(SepalLength, SepalWidth, label='Sepal', color='green')
plt.title('Scatter Plot')

plt.legend()
plt.show()
