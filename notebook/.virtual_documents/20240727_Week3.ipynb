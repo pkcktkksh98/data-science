


import pandas as pd
import numpy as np
import matplotlib.pyplot as plt
from matplotlib import style


df = pd.read_csv("dataset/Iris.csv")
df


df.describe()


df.dtypes


df.shape


df.columns


df.Species
# df['Species'] same as above


df.Species.value_counts()


df=df.drop("Id",axis=1)
df


df.groupby('Species').std()
df.groupby('Species').mean()
df.groupby('Species').median()


df.groupby('Species').agg(['mean','median','std'])


petalLength = df.PetalLengthCm
petalWidth = df.PetalWidthCm
SepalLength = df.SepalLengthCm
SepalWidth = df.SepalWidthCm


ax = plt.axes()
plt.scatter(petalLength, petalWidth, label='Petal', color='blue')
plt.xlabel('Length')
plt.ylabel('Width')
plt.scatter(SepalLength, SepalWidth, label='Sepal', color='green')
plt.title('Scatter Plot')

plt.legend()
plt.show()


!pip install plotly


import plotly.express as px

fig = px.scatter(data_frame=df, x='SepalLengthCm', color='Species', template='plotly_dark')
fig.update_layout(width=800, height=600,
                  xaxis=dict(title="SepalLengthCm", color="#36FF00"),
                  yaxis=dict(title="Flower Name", color="#36FF00"))

fig.show()



import plotly.express as px

fig = px.scatter(data_frame=df, x='SepalLengthCm', y='SepalWidthCm',color='Species', template='plotly_dark')
fig.update_layout(width=800, height=600,
                  xaxis=dict(title="SepalLengthCm", color="#36FF00"),
                  yaxis=dict(title="SepalWidthCm", color="#36FF00"))

fig.show()


ax=plt.axes()
ax.hist(SepalWidth, bins=30)
ax.set(xlabel='Sepal Width in cm', ylabel='frequency')


df.hist(bins=30)


ax=df.plot.hist(bins=24, alpha=0.5)
ax.set_xlabel('Size in cm');


df.boxplot(by='Species')


!pip install seaborn


plot_data = (df
             .set_index('Species')
             .stack()
             .to_frame()
             .reset_index()
             .rename(columns={0: 'size', 'level_1': 'measurement'}))

plot_data.head()

import seaborn as sns

sns.set_style('white')
sns.set_context('notebook')
sns.set_palette('dark')

f = plt.figure(figsize=(6,4))
sns.boxplot(x='measurement', y='size', hue='Species', data=plot_data)


sns.pairplot(df, hue='Species')





train_df = pd.read_csv("dataset/titanic/train.csv")


train_df.columns
