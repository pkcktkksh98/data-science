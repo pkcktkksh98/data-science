{
 "cells": [
  {
   "cell_type": "code",
   "execution_count": 1,
   "id": "a859a4f8-e3a3-4e40-b4e7-ffb6de7ef8de",
   "metadata": {},
   "outputs": [],
   "source": [
    "import pandas as pd\n",
    "import numpy as np"
   ]
  },
  {
   "cell_type": "code",
   "execution_count": 3,
   "id": "dac0a683-60e4-4ce3-a304-cb7e1c91b7a4",
   "metadata": {
    "scrolled": true
   },
   "outputs": [
    {
     "name": "stdout",
     "output_type": "stream",
     "text": [
      "0    a\n",
      "1    b\n",
      "2    c\n",
      "3    d\n",
      "4    e\n",
      "5    g\n",
      "dtype: object\n"
     ]
    }
   ],
   "source": [
    "first_series = pd.Series(list('abcdeg'))\n",
    "print(first_series)"
   ]
  },
  {
   "cell_type": "code",
   "execution_count": 8,
   "id": "ce131a8a-d59e-4b0d-89b9-c002907b100f",
   "metadata": {
    "scrolled": true
   },
   "outputs": [
    {
     "data": {
      "text/plain": [
       "afiq      100.0\n",
       "ahmad       NaN\n",
       "elton       NaN\n",
       "haikal      NaN\n",
       "john        NaN\n",
       "sarah      76.0\n",
       "yazid      67.0\n",
       "dtype: float64"
      ]
     },
     "execution_count": 8,
     "metadata": {},
     "output_type": "execute_result"
    }
   ],
   "source": [
    "scores1 = [77,11,53,65,76]\n",
    "scores2 = [23,56,23,82,55]\n",
    "students1 = ['afiq', 'yazid', 'sarah','haikal','ahmad']\n",
    "students2 = ['afiq', 'yazid', 'sarah','john','elton']\n",
    "\n",
    "series1 = pd.Series(scores,index=students1)\n",
    "series2 = pd.Series(scores2,index=students1)\n",
    "series3 = pd.Series(scores2,index=students2)\n",
    "\n",
    "series1+series3"
   ]
  },
  {
   "cell_type": "code",
   "execution_count": 12,
   "id": "7c360729-deee-4d88-9925-c1886f522896",
   "metadata": {},
   "outputs": [
    {
     "name": "stdout",
     "output_type": "stream",
     "text": [
      "77\n",
      "77\n"
     ]
    }
   ],
   "source": [
    "print(series1.iloc[0])\n",
    "print(series1.loc['afiq'])"
   ]
  },
  {
   "cell_type": "code",
   "execution_count": 23,
   "id": "1c41fac6-718a-42ed-ba45-71e05af868bd",
   "metadata": {},
   "outputs": [],
   "source": [
    "olympic = {\n",
    "    'Host':['London', 'Beijing','Athens','Sydney','Atlanta','Malaysia'],\n",
    "    'Year':[2012,2008,200,2000,1996,2020],\n",
    "    'No. Paricipants':[205,204,201,200,197,10]\n",
    "}\n",
    "\n",
    "df_olympic = pd.DataFrame(olympic)"
   ]
  },
  {
   "cell_type": "code",
   "execution_count": 24,
   "id": "498e089c-7895-414e-a6a4-4087674092fc",
   "metadata": {},
   "outputs": [
    {
     "data": {
      "text/html": [
       "<div>\n",
       "<style scoped>\n",
       "    .dataframe tbody tr th:only-of-type {\n",
       "        vertical-align: middle;\n",
       "    }\n",
       "\n",
       "    .dataframe tbody tr th {\n",
       "        vertical-align: top;\n",
       "    }\n",
       "\n",
       "    .dataframe thead th {\n",
       "        text-align: right;\n",
       "    }\n",
       "</style>\n",
       "<table border=\"1\" class=\"dataframe\">\n",
       "  <thead>\n",
       "    <tr style=\"text-align: right;\">\n",
       "      <th></th>\n",
       "      <th>Host</th>\n",
       "      <th>Year</th>\n",
       "      <th>No. Paricipants</th>\n",
       "    </tr>\n",
       "  </thead>\n",
       "  <tbody>\n",
       "    <tr>\n",
       "      <th>0</th>\n",
       "      <td>London</td>\n",
       "      <td>2012</td>\n",
       "      <td>205</td>\n",
       "    </tr>\n",
       "    <tr>\n",
       "      <th>1</th>\n",
       "      <td>Beijing</td>\n",
       "      <td>2008</td>\n",
       "      <td>204</td>\n",
       "    </tr>\n",
       "    <tr>\n",
       "      <th>2</th>\n",
       "      <td>Athens</td>\n",
       "      <td>200</td>\n",
       "      <td>201</td>\n",
       "    </tr>\n",
       "    <tr>\n",
       "      <th>3</th>\n",
       "      <td>Sydney</td>\n",
       "      <td>2000</td>\n",
       "      <td>200</td>\n",
       "    </tr>\n",
       "    <tr>\n",
       "      <th>4</th>\n",
       "      <td>Atlanta</td>\n",
       "      <td>1996</td>\n",
       "      <td>197</td>\n",
       "    </tr>\n",
       "    <tr>\n",
       "      <th>5</th>\n",
       "      <td>Malaysia</td>\n",
       "      <td>2020</td>\n",
       "      <td>10</td>\n",
       "    </tr>\n",
       "  </tbody>\n",
       "</table>\n",
       "</div>"
      ],
      "text/plain": [
       "       Host  Year  No. Paricipants\n",
       "0    London  2012              205\n",
       "1   Beijing  2008              204\n",
       "2    Athens   200              201\n",
       "3    Sydney  2000              200\n",
       "4   Atlanta  1996              197\n",
       "5  Malaysia  2020               10"
      ]
     },
     "execution_count": 24,
     "metadata": {},
     "output_type": "execute_result"
    }
   ],
   "source": [
    "df_olympic"
   ]
  },
  {
   "cell_type": "code",
   "execution_count": 25,
   "id": "f3938a32-959b-40db-8f55-822257c563db",
   "metadata": {},
   "outputs": [
    {
     "data": {
      "text/html": [
       "<div>\n",
       "<style scoped>\n",
       "    .dataframe tbody tr th:only-of-type {\n",
       "        vertical-align: middle;\n",
       "    }\n",
       "\n",
       "    .dataframe tbody tr th {\n",
       "        vertical-align: top;\n",
       "    }\n",
       "\n",
       "    .dataframe thead th {\n",
       "        text-align: right;\n",
       "    }\n",
       "</style>\n",
       "<table border=\"1\" class=\"dataframe\">\n",
       "  <thead>\n",
       "    <tr style=\"text-align: right;\">\n",
       "      <th></th>\n",
       "      <th>London</th>\n",
       "      <th>Beijing</th>\n",
       "    </tr>\n",
       "  </thead>\n",
       "  <tbody>\n",
       "    <tr>\n",
       "      <th>2012</th>\n",
       "      <td>205</td>\n",
       "      <td>100</td>\n",
       "    </tr>\n",
       "    <tr>\n",
       "      <th>2008</th>\n",
       "      <td>199</td>\n",
       "      <td>204</td>\n",
       "    </tr>\n",
       "  </tbody>\n",
       "</table>\n",
       "</div>"
      ],
      "text/plain": [
       "      London  Beijing\n",
       "2012     205      100\n",
       "2008     199      204"
      ]
     },
     "execution_count": 25,
     "metadata": {},
     "output_type": "execute_result"
    }
   ],
   "source": [
    "olympic_data = {\n",
    "    'London':{2012:205,2008:199},\n",
    "    'Beijing':{2008:204,2012:100}\n",
    "}\n",
    "df_olympic_data = pd.DataFrame(olympic_data)\n",
    "df_olympic_data"
   ]
  },
  {
   "cell_type": "code",
   "execution_count": 28,
   "id": "fc949648-f283-4244-87d0-9c3e6571e0d4",
   "metadata": {},
   "outputs": [
    {
     "data": {
      "text/plain": [
       "1    2008\n",
       "2     200\n",
       "3    2000\n",
       "4    1996\n",
       "5    2020\n",
       "Name: Year, dtype: int64"
      ]
     },
     "execution_count": 28,
     "metadata": {},
     "output_type": "execute_result"
    }
   ],
   "source": [
    "df_olympic['Year'].tail()"
   ]
  },
  {
   "cell_type": "code",
   "execution_count": 30,
   "id": "5a15a29e-759d-4097-ba07-2f94e3cdbca2",
   "metadata": {
    "scrolled": true
   },
   "outputs": [
    {
     "data": {
      "text/plain": [
       "<bound method NDFrame.describe of        Host  Year  No. Paricipants\n",
       "0    London  2012              205\n",
       "1   Beijing  2008              204\n",
       "2    Athens   200              201\n",
       "3    Sydney  2000              200\n",
       "4   Atlanta  1996              197\n",
       "5  Malaysia  2020               10>"
      ]
     },
     "execution_count": 30,
     "metadata": {},
     "output_type": "execute_result"
    }
   ],
   "source": [
    "df_olympic.describe"
   ]
  },
  {
   "cell_type": "code",
   "execution_count": 31,
   "id": "d5d3aef4-c57e-48fe-a7eb-28d05d95d586",
   "metadata": {},
   "outputs": [
    {
     "data": {
      "text/plain": [
       "Host               object\n",
       "Year                int64\n",
       "No. Paricipants     int64\n",
       "dtype: object"
      ]
     },
     "execution_count": 31,
     "metadata": {},
     "output_type": "execute_result"
    }
   ],
   "source": [
    "df_olympic.dtypes"
   ]
  },
  {
   "cell_type": "code",
   "execution_count": 41,
   "id": "f561ff73-c151-460a-822b-d470d11fba6a",
   "metadata": {},
   "outputs": [],
   "source": [
    "states=['Johor','Selangor','Sabah','Kedah','Perlis']\n",
    "populations=[101,542,5632,123,531]\n",
    "capitals=['JB','SA','KK','SP','Perlis']\n",
    "\n",
    "population_in_series=pd.Series(populations,index=states)\n",
    "capitals_state=pd.Series(capitals,index=states)"
   ]
  },
  {
   "cell_type": "code",
   "execution_count": 42,
   "id": "a800b062-9188-4550-8350-ecb12276a59d",
   "metadata": {},
   "outputs": [
    {
     "data": {
      "text/plain": [
       "Johor        101\n",
       "Selangor     542\n",
       "Sabah       5632\n",
       "Kedah        123\n",
       "Perlis       531\n",
       "dtype: int64"
      ]
     },
     "execution_count": 42,
     "metadata": {},
     "output_type": "execute_result"
    }
   ],
   "source": [
    "population_in_series"
   ]
  },
  {
   "cell_type": "code",
   "execution_count": 43,
   "id": "bf2b0f86-11dc-4578-9578-e1462d866a70",
   "metadata": {},
   "outputs": [
    {
     "data": {
      "text/plain": [
       "Johor           JB\n",
       "Selangor        SA\n",
       "Sabah           KK\n",
       "Kedah           SP\n",
       "Perlis      Perlis\n",
       "dtype: object"
      ]
     },
     "execution_count": 43,
     "metadata": {},
     "output_type": "execute_result"
    }
   ],
   "source": [
    "capitals_state"
   ]
  },
  {
   "cell_type": "code",
   "execution_count": 47,
   "id": "7f2c4fd0-de93-4e2f-baa0-b83c15b61959",
   "metadata": {},
   "outputs": [
    {
     "data": {
      "text/html": [
       "<div>\n",
       "<style scoped>\n",
       "    .dataframe tbody tr th:only-of-type {\n",
       "        vertical-align: middle;\n",
       "    }\n",
       "\n",
       "    .dataframe tbody tr th {\n",
       "        vertical-align: top;\n",
       "    }\n",
       "\n",
       "    .dataframe thead th {\n",
       "        text-align: right;\n",
       "    }\n",
       "</style>\n",
       "<table border=\"1\" class=\"dataframe\">\n",
       "  <thead>\n",
       "    <tr style=\"text-align: right;\">\n",
       "      <th></th>\n",
       "      <th>Populations</th>\n",
       "      <th>Capital-city</th>\n",
       "    </tr>\n",
       "  </thead>\n",
       "  <tbody>\n",
       "    <tr>\n",
       "      <th>Johor</th>\n",
       "      <td>101</td>\n",
       "      <td>JB</td>\n",
       "    </tr>\n",
       "    <tr>\n",
       "      <th>Selangor</th>\n",
       "      <td>542</td>\n",
       "      <td>SA</td>\n",
       "    </tr>\n",
       "    <tr>\n",
       "      <th>Sabah</th>\n",
       "      <td>5632</td>\n",
       "      <td>KK</td>\n",
       "    </tr>\n",
       "    <tr>\n",
       "      <th>Kedah</th>\n",
       "      <td>123</td>\n",
       "      <td>SP</td>\n",
       "    </tr>\n",
       "    <tr>\n",
       "      <th>Perlis</th>\n",
       "      <td>531</td>\n",
       "      <td>Perlis</td>\n",
       "    </tr>\n",
       "  </tbody>\n",
       "</table>\n",
       "</div>"
      ],
      "text/plain": [
       "          Populations Capital-city\n",
       "Johor             101           JB\n",
       "Selangor          542           SA\n",
       "Sabah            5632           KK\n",
       "Kedah             123           SP\n",
       "Perlis            531       Perlis"
      ]
     },
     "execution_count": 47,
     "metadata": {},
     "output_type": "execute_result"
    }
   ],
   "source": [
    "df_states = pd.DataFrame({\n",
    "    'Populations':population_in_series,\n",
    "    'Capital-city':capitals_state\n",
    "})\n",
    "df_states"
   ]
  },
  {
   "cell_type": "code",
   "execution_count": 48,
   "id": "d4e61be4-0cc0-40f5-a5ed-80a19380b05d",
   "metadata": {},
   "outputs": [],
   "source": [
    "import pandas as pd\n",
    "\n",
    "df_movie_rating = pd.DataFrame(\n",
    "    {'movie 1': [5, 4, 3, 3, 2, 1],\n",
    "     'movie 2': [4, 5, 2, 3, 4, 2]},\n",
    "    index=['Tom', 'Jeff', 'Peter', 'Ram', 'Ted', 'Paul']\n",
    ")\n",
    "\n",
    "def movie_grade(rating):\n",
    "    if rating == 5:\n",
    "        return 'A'\n",
    "    if rating == 4:\n",
    "        return 'B'\n",
    "    if rating == 3:\n",
    "        return 'C'\n",
    "    if rating == 2:\n",
    "        return 'D'\n",
    "    else:\n",
    "        return 'F'\n",
    "\n"
   ]
  },
  {
   "cell_type": "code",
   "execution_count": 49,
   "id": "7aa9f6ae-a85b-4ac9-8bd6-54c287d6b0f8",
   "metadata": {},
   "outputs": [
    {
     "name": "stdout",
     "output_type": "stream",
     "text": [
      "A\n"
     ]
    }
   ],
   "source": [
    "print(movie_grade(5))"
   ]
  },
  {
   "cell_type": "code",
   "execution_count": 50,
   "id": "89c6f96a-9783-4611-9d77-e8d8648ff47b",
   "metadata": {},
   "outputs": [
    {
     "name": "stderr",
     "output_type": "stream",
     "text": [
      "C:\\Users\\Muhammad Afiq\\AppData\\Local\\Temp\\ipykernel_6964\\3508546455.py:1: FutureWarning: DataFrame.applymap has been deprecated. Use DataFrame.map instead.\n",
      "  df_movie_rating.applymap(movie_grade)\n"
     ]
    },
    {
     "data": {
      "text/html": [
       "<div>\n",
       "<style scoped>\n",
       "    .dataframe tbody tr th:only-of-type {\n",
       "        vertical-align: middle;\n",
       "    }\n",
       "\n",
       "    .dataframe tbody tr th {\n",
       "        vertical-align: top;\n",
       "    }\n",
       "\n",
       "    .dataframe thead th {\n",
       "        text-align: right;\n",
       "    }\n",
       "</style>\n",
       "<table border=\"1\" class=\"dataframe\">\n",
       "  <thead>\n",
       "    <tr style=\"text-align: right;\">\n",
       "      <th></th>\n",
       "      <th>movie 1</th>\n",
       "      <th>movie 2</th>\n",
       "    </tr>\n",
       "  </thead>\n",
       "  <tbody>\n",
       "    <tr>\n",
       "      <th>Tom</th>\n",
       "      <td>A</td>\n",
       "      <td>B</td>\n",
       "    </tr>\n",
       "    <tr>\n",
       "      <th>Jeff</th>\n",
       "      <td>B</td>\n",
       "      <td>A</td>\n",
       "    </tr>\n",
       "    <tr>\n",
       "      <th>Peter</th>\n",
       "      <td>C</td>\n",
       "      <td>D</td>\n",
       "    </tr>\n",
       "    <tr>\n",
       "      <th>Ram</th>\n",
       "      <td>C</td>\n",
       "      <td>C</td>\n",
       "    </tr>\n",
       "    <tr>\n",
       "      <th>Ted</th>\n",
       "      <td>D</td>\n",
       "      <td>B</td>\n",
       "    </tr>\n",
       "    <tr>\n",
       "      <th>Paul</th>\n",
       "      <td>F</td>\n",
       "      <td>D</td>\n",
       "    </tr>\n",
       "  </tbody>\n",
       "</table>\n",
       "</div>"
      ],
      "text/plain": [
       "      movie 1 movie 2\n",
       "Tom         A       B\n",
       "Jeff        B       A\n",
       "Peter       C       D\n",
       "Ram         C       C\n",
       "Ted         D       B\n",
       "Paul        F       D"
      ]
     },
     "execution_count": 50,
     "metadata": {},
     "output_type": "execute_result"
    }
   ],
   "source": [
    "df_movie_rating.applymap(movie_grade)"
   ]
  },
  {
   "cell_type": "markdown",
   "id": "a345b63c-beb9-4fdd-b800-ad7ad36c3307",
   "metadata": {},
   "source": [
    "## Pandas SQL"
   ]
  },
  {
   "cell_type": "code",
   "execution_count": null,
   "id": "6f181be4-ff07-415e-a02d-bb888a660952",
   "metadata": {},
   "outputs": [],
   "source": []
  }
 ],
 "metadata": {
  "kernelspec": {
   "display_name": "Python 3 (ipykernel)",
   "language": "python",
   "name": "python3"
  },
  "language_info": {
   "codemirror_mode": {
    "name": "ipython",
    "version": 3
   },
   "file_extension": ".py",
   "mimetype": "text/x-python",
   "name": "python",
   "nbconvert_exporter": "python",
   "pygments_lexer": "ipython3",
   "version": "3.12.4"
  }
 },
 "nbformat": 4,
 "nbformat_minor": 5
}
