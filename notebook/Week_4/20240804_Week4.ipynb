{
 "cells": [
  {
   "cell_type": "code",
   "execution_count": 2,
   "id": "f56f363c-209c-4936-9f5c-cc470db59870",
   "metadata": {},
   "outputs": [
    {
     "name": "stdout",
     "output_type": "stream",
     "text": [
      "[CV] END ................................ score: (test=1.000) total time=   0.0s\n",
      "[CV] END ................................ score: (test=1.000) total time=   0.0s\n",
      "[CV] END ................................ score: (test=1.000) total time=   0.0s\n",
      "[CV] END ................................ score: (test=1.000) total time=   0.0s\n",
      "[CV] END ................................ score: (test=0.933) total time=   0.0s\n",
      "[CV] END ................................ score: (test=0.933) total time=   0.0s\n",
      "[CV] END ................................ score: (test=0.867) total time=   0.0s\n",
      "[CV] END ................................ score: (test=1.000) total time=   0.0s\n",
      "[CV] END ................................ score: (test=1.000) total time=   0.0s\n",
      "[CV] END ................................ score: (test=1.000) total time=   0.0s\n",
      "[1.         1.         1.         1.         0.93333333 0.93333333\n",
      " 0.86666667 1.         1.         1.        ]\n"
     ]
    },
    {
     "name": "stderr",
     "output_type": "stream",
     "text": [
      "C:\\Users\\Muhammad Afiq\\AppData\\Local\\Temp\\ipykernel_34252\\4098742076.py:8: FutureWarning: Downcasting behavior in `replace` is deprecated and will be removed in a future version. To retain the old behavior, explicitly call `result.infer_objects(copy=False)`. To opt-in to the future behavior, set `pd.set_option('future.no_silent_downcasting', True)`\n",
      "  df['Species'] = df['Species'].replace(('Iris-setosa', 'Iris-versicolor', 'Iris-virginica'), (0, 1, 2))\n"
     ]
    }
   ],
   "source": [
    "import pandas as pd\n",
    "from sklearn.svm import SVC\n",
    "from sklearn.model_selection import cross_val_score\n",
    "\n",
    "df = pd.read_csv(\"../../dataset/Iris.csv\")\n",
    "\n",
    "df = df.drop('Id', axis=1)\n",
    "df['Species'] = df['Species'].replace(('Iris-setosa', 'Iris-versicolor', 'Iris-virginica'), (0, 1, 2))\n",
    "\n",
    "features = df[['SepalLengthCm', 'SepalWidthCm', 'PetalLengthCm', 'PetalWidthCm']]\n",
    "label = df['Species']\n",
    "\n",
    "clf = SVC(kernel='rbf', gamma=0.1, C=100)\n",
    "\n",
    "scores = cross_val_score(clf, features, label, cv=10, verbose=3)\n",
    "\n",
    "print(scores)\n"
   ]
  },
  {
   "cell_type": "code",
   "execution_count": 3,
   "id": "b7a29a05-b550-43f2-9803-3396c6385d74",
   "metadata": {},
   "outputs": [
    {
     "name": "stdout",
     "output_type": "stream",
     "text": [
      "[CV] END ................................ score: (test=0.333) total time=   0.0s\n",
      "[CV] END ................................ score: (test=0.389) total time=   0.0s\n",
      "[CV] END ................................ score: (test=0.444) total time=   0.0s\n",
      "[CV] END ................................ score: (test=0.389) total time=   0.0s\n",
      "[CV] END ................................ score: (test=0.444) total time=   0.0s\n",
      "[CV] END ................................ score: (test=0.389) total time=   0.0s\n",
      "[CV] END ................................ score: (test=0.444) total time=   0.0s\n",
      "[CV] END ................................ score: (test=0.500) total time=   0.0s\n",
      "[CV] END ................................ score: (test=0.471) total time=   0.0s\n",
      "[CV] END ................................ score: (test=0.529) total time=   0.0s\n",
      "[0.33333333 0.38888889 0.44444444 0.38888889 0.44444444 0.38888889\n",
      " 0.44444444 0.5        0.47058824 0.52941176]\n"
     ]
    }
   ],
   "source": [
    "from sklearn.datasets import load_wine\n",
    "\n",
    "wine=load_wine()\n",
    "x=wine.data\n",
    "y=wine.target\n",
    "\n",
    "clf = SVC(kernel='rbf', gamma=0.1, C=100)\n",
    "\n",
    "scores = cross_val_score(clf, x, y, cv=10, verbose=3)\n",
    "\n",
    "print(scores)"
   ]
  },
  {
   "cell_type": "code",
   "execution_count": 4,
   "id": "2fdb9b85-1b79-403c-924d-8509c4acd006",
   "metadata": {},
   "outputs": [
    {
     "name": "stdout",
     "output_type": "stream",
     "text": [
      "[CV] END ................................ score: (test=0.889) total time=   0.0s\n",
      "[CV] END ................................ score: (test=0.944) total time=   0.0s\n",
      "[CV] END ................................ score: (test=0.944) total time=   0.0s\n",
      "[CV] END ................................ score: (test=0.944) total time=   0.0s\n",
      "[CV] END ................................ score: (test=1.000) total time=   0.0s\n",
      "[CV] END ................................ score: (test=0.944) total time=   0.0s\n",
      "[CV] END ................................ score: (test=0.944) total time=   0.0s\n",
      "[CV] END ................................ score: (test=1.000) total time=   0.0s\n",
      "[CV] END ................................ score: (test=0.941) total time=   0.0s\n",
      "[CV] END ................................ score: (test=1.000) total time=   0.0s\n",
      "[0.88888889 0.94444444 0.94444444 0.94444444 1.         0.94444444\n",
      " 0.94444444 1.         0.94117647 1.        ]\n"
     ]
    }
   ],
   "source": [
    "from sklearn.preprocessing import MinMaxScaler\n",
    "\n",
    "scaler_minmax = MinMaxScaler()\n",
    "scaler_minmax.fit(x)\n",
    "x_train_mmscaled = scaler_minmax.transform(x)\n",
    "# x_test_mmscaled = scaler_minmax.transform(x_test)\n",
    "\n",
    "scores = cross_val_score(clf, x_train_mmscaled, y, cv=10, verbose=3)\n",
    "\n",
    "print(scores)"
   ]
  },
  {
   "cell_type": "markdown",
   "id": "4b317a8b-6228-4375-ad22-3a0079234137",
   "metadata": {},
   "source": [
    "## Logistic Regression"
   ]
  },
  {
   "cell_type": "code",
   "execution_count": 5,
   "id": "c43b7168-abed-4322-bd13-6adc634537c0",
   "metadata": {},
   "outputs": [
    {
     "name": "stdout",
     "output_type": "stream",
     "text": [
      "Accuracy: 0.9666666666666667\n",
      "[2 2 1 0 1 1 1 1 0 0 2 1 1 0 0 1 0 2 0 2 0 0 1 0 1 1 0 1 0 1]\n"
     ]
    }
   ],
   "source": [
    "from sklearn.linear_model import LogisticRegression\n",
    "from sklearn.datasets import load_iris\n",
    "from sklearn.model_selection import train_test_split\n",
    "from sklearn.metrics import accuracy_score\n",
    "\n",
    "# Load the Iris dataset\n",
    "iris = load_iris()\n",
    "X = iris.data\n",
    "y = iris.target\n",
    "\n",
    "# Split the dataset into training and testing sets\n",
    "X_train, X_test, y_train, y_test = train_test_split(X, y, test_size=0.2)\n",
    "\n",
    "# Create a logistic regression classifier\n",
    "logreg = LogisticRegression(max_iter = 1000)\n",
    "\n",
    "# Train the classifier\n",
    "logreg.fit(X_train, y_train)\n",
    "\n",
    "# Predict the classes for the test set\n",
    "y_pred = logreg.predict(X_test)\n",
    "\n",
    "# Calculate the accuracy of the classifier\n",
    "accuracy = accuracy_score(y_test, y_pred)\n",
    "\n",
    "# Print the accuracy\n",
    "print(\"Accuracy:\", accuracy)\n",
    "print(y_pred)\n"
   ]
  },
  {
   "cell_type": "code",
   "execution_count": 6,
   "id": "5a1d94d5-e72e-4194-8c52-18495183eaf8",
   "metadata": {},
   "outputs": [
    {
     "data": {
      "text/plain": [
       "<function matplotlib.pyplot.show(close=None, block=None)>"
      ]
     },
     "execution_count": 6,
     "metadata": {},
     "output_type": "execute_result"
    },
    {
     "data": {
      "image/png": "[encoded data removed]",
      "text/plain": [
       "<Figure size 640x480 with 2 Axes>"
      ]
     },
     "metadata": {},
     "output_type": "display_data"
    }
   ],
   "source": [
    "from sklearn.metrics import confusion_matrix\n",
    "import matplotlib.pyplot as plt\n",
    "from sklearn.metrics import ConfusionMatrixDisplay\n",
    "\n",
    "cm = confusion_matrix(y_test, y_pred)\n",
    "cm_display = ConfusionMatrixDisplay(confusion_matrix=cm)\n",
    "cm_display.plot()\n",
    "plt.show"
   ]
  },
  {
   "cell_type": "markdown",
   "id": "a1871d24-9d61-4a44-babb-6078dacdcc50",
   "metadata": {},
   "source": [
    "### Logistic Regression with GridSearchCV"
   ]
  },
  {
   "cell_type": "code",
   "execution_count": 7,
   "id": "87f6a575-bc43-48df-97f4-667b6a1a459a",
   "metadata": {},
   "outputs": [
    {
     "name": "stdout",
     "output_type": "stream",
     "text": [
      "Best Hyperparameters: {'C': 1.0}\n",
      "Best Accuracy on Cross-Validated Set: 0.975\n",
      "Accuracy on Test Set: 0.9666666666666667\n"
     ]
    }
   ],
   "source": [
    "from sklearn.model_selection import GridSearchCV\n",
    "\n",
    "# Define the parameter grid for grid search\n",
    "param_grid = {\n",
    "    'C': [0.1, 1.0, 10.0]  # Different inverse regularization strengths\n",
    "}\n",
    "\n",
    "# Create a logistic regression classifier\n",
    "logreg = LogisticRegression(max_iter=1000)\n",
    "\n",
    "# Perform grid search to find the best hyperparameters\n",
    "grid_search = GridSearchCV(logreg, param_grid, cv=5)\n",
    "grid_search.fit(X_train, y_train)\n",
    "\n",
    "# Get the best hyperparameters and the corresponding accuracy score\n",
    "best_params = grid_search.best_params_\n",
    "best_score = grid_search.best_score_\n",
    "\n",
    "# Train the logistic regression classifier with the best hyperparameters\n",
    "best_logreg = LogisticRegression(**best_params, max_iter=1000)\n",
    "best_logreg.fit(X_train, y_train)\n",
    "\n",
    "# Predict the classes for the test set\n",
    "y_pred = best_logreg.predict(X_test)\n",
    "\n",
    "# Calculate the accuracy of the classifier\n",
    "accuracy = accuracy_score(y_test, y_pred)\n",
    "\n",
    "# Print the results\n",
    "print(\"Best Hyperparameters:\", best_params)\n",
    "print(\"Best Accuracy on Cross-Validated Set:\", best_score)\n",
    "print(\"Accuracy on Test Set:\", accuracy)\n"
   ]
  },
  {
   "cell_type": "code",
   "execution_count": 8,
   "id": "798891c8-0af2-48c2-89ed-faf1014d33b7",
   "metadata": {},
   "outputs": [
    {
     "name": "stdout",
     "output_type": "stream",
     "text": [
      "Best Hyperparameters: {'C': 10.0}\n",
      "Best Accuracy on Cross-Validated Set: 0.97192118226601\n",
      "Accuracy on Test Set: 0.9722222222222222\n"
     ]
    }
   ],
   "source": [
    "wine=load_wine()\n",
    "x=wine.data\n",
    "y=wine.target\n",
    "X_train, X_test, y_train, y_test = train_test_split(x, y, test_size=0.2)\n",
    "param_grid = {\n",
    "    'C': [0.1, 1.0, 10.0]  # Different inverse regularization strengths\n",
    "}\n",
    "\n",
    "# Create a logistic regression classifier\n",
    "logreg = LogisticRegression(max_iter=10000)\n",
    "\n",
    "# Perform grid search to find the best hyperparameters\n",
    "grid_search = GridSearchCV(logreg, param_grid, cv=5)\n",
    "grid_search.fit(X_train, y_train)\n",
    "\n",
    "# Get the best hyperparameters and the corresponding accuracy score\n",
    "best_params = grid_search.best_params_\n",
    "best_score = grid_search.best_score_\n",
    "\n",
    "# Train the logistic regression classifier with the best hyperparameters\n",
    "best_logreg = LogisticRegression(**best_params, max_iter=10000)\n",
    "best_logreg.fit(X_train, y_train)\n",
    "\n",
    "# Predict the classes for the test set\n",
    "y_pred = best_logreg.predict(X_test)\n",
    "\n",
    "# Calculate the accuracy of the classifier\n",
    "accuracy = accuracy_score(y_test, y_pred)\n",
    "\n",
    "# Print the results\n",
    "print(\"Best Hyperparameters:\", best_params)\n",
    "print(\"Best Accuracy on Cross-Validated Set:\", best_score)\n",
    "print(\"Accuracy on Test Set:\", accuracy)"
   ]
  },
  {
   "cell_type": "markdown",
   "id": "0bb6c656-172a-480a-9289-8325ed2ae91e",
   "metadata": {},
   "source": [
    "## Wine Quality Dataset"
   ]
  },
  {
   "cell_type": "code",
   "execution_count": 9,
   "id": "2e97afd1-caf8-4075-bdb0-c7392ef9fe24",
   "metadata": {},
   "outputs": [],
   "source": [
    "# Read the dataset\n",
    "wine_df = pd.read_csv(\"../../dataset/winequality-red.csv\")"
   ]
  },
  {
   "cell_type": "code",
   "execution_count": 10,
   "id": "b1a9d784-da5d-4d8c-86ea-80d4392b0b53",
   "metadata": {},
   "outputs": [
    {
     "data": {
      "text/html": [
       "<div>\n",
       "<style scoped>\n",
       "    .dataframe tbody tr th:only-of-type {\n",
       "        vertical-align: middle;\n",
       "    }\n",
       "\n",
       "    .dataframe tbody tr th {\n",
       "        vertical-align: top;\n",
       "    }\n",
       "\n",
       "    .dataframe thead th {\n",
       "        text-align: right;\n",
       "    }\n",
       "</style>\n",
       "<table border=\"1\" class=\"dataframe\">\n",
       "  <thead>\n",
       "    <tr style=\"text-align: right;\">\n",
       "      <th></th>\n",
       "      <th>fixed acidity</th>\n",
       "      <th>volatile acidity</th>\n",
       "      <th>citric acid</th>\n",
       "      <th>residual sugar</th>\n",
       "      <th>chlorides</th>\n",
       "      <th>free sulfur dioxide</th>\n",
       "      <th>total sulfur dioxide</th>\n",
       "      <th>density</th>\n",
       "      <th>pH</th>\n",
       "      <th>sulphates</th>\n",
       "      <th>alcohol</th>\n",
       "      <th>quality</th>\n",
       "    </tr>\n",
       "  </thead>\n",
       "  <tbody>\n",
       "    <tr>\n",
       "      <th>0</th>\n",
       "      <td>7.4</td>\n",
       "      <td>0.70</td>\n",
       "      <td>0.00</td>\n",
       "      <td>1.9</td>\n",
       "      <td>0.076</td>\n",
       "      <td>11.0</td>\n",
       "      <td>34.0</td>\n",
       "      <td>0.9978</td>\n",
       "      <td>3.51</td>\n",
       "      <td>0.56</td>\n",
       "      <td>9.4</td>\n",
       "      <td>5</td>\n",
       "    </tr>\n",
       "    <tr>\n",
       "      <th>1</th>\n",
       "      <td>7.8</td>\n",
       "      <td>0.88</td>\n",
       "      <td>0.00</td>\n",
       "      <td>2.6</td>\n",
       "      <td>0.098</td>\n",
       "      <td>25.0</td>\n",
       "      <td>67.0</td>\n",
       "      <td>0.9968</td>\n",
       "      <td>3.20</td>\n",
       "      <td>0.68</td>\n",
       "      <td>9.8</td>\n",
       "      <td>5</td>\n",
       "    </tr>\n",
       "    <tr>\n",
       "      <th>2</th>\n",
       "      <td>7.8</td>\n",
       "      <td>0.76</td>\n",
       "      <td>0.04</td>\n",
       "      <td>2.3</td>\n",
       "      <td>0.092</td>\n",
       "      <td>15.0</td>\n",
       "      <td>54.0</td>\n",
       "      <td>0.9970</td>\n",
       "      <td>3.26</td>\n",
       "      <td>0.65</td>\n",
       "      <td>9.8</td>\n",
       "      <td>5</td>\n",
       "    </tr>\n",
       "    <tr>\n",
       "      <th>3</th>\n",
       "      <td>11.2</td>\n",
       "      <td>0.28</td>\n",
       "      <td>0.56</td>\n",
       "      <td>1.9</td>\n",
       "      <td>0.075</td>\n",
       "      <td>17.0</td>\n",
       "      <td>60.0</td>\n",
       "      <td>0.9980</td>\n",
       "      <td>3.16</td>\n",
       "      <td>0.58</td>\n",
       "      <td>9.8</td>\n",
       "      <td>6</td>\n",
       "    </tr>\n",
       "    <tr>\n",
       "      <th>4</th>\n",
       "      <td>7.4</td>\n",
       "      <td>0.70</td>\n",
       "      <td>0.00</td>\n",
       "      <td>1.9</td>\n",
       "      <td>0.076</td>\n",
       "      <td>11.0</td>\n",
       "      <td>34.0</td>\n",
       "      <td>0.9978</td>\n",
       "      <td>3.51</td>\n",
       "      <td>0.56</td>\n",
       "      <td>9.4</td>\n",
       "      <td>5</td>\n",
       "    </tr>\n",
       "  </tbody>\n",
       "</table>\n",
       "</div>"
      ],
      "text/plain": [
       "   fixed acidity  volatile acidity  citric acid  residual sugar  chlorides  \\\n",
       "0            7.4              0.70         0.00             1.9      0.076   \n",
       "1            7.8              0.88         0.00             2.6      0.098   \n",
       "2            7.8              0.76         0.04             2.3      0.092   \n",
       "3           11.2              0.28         0.56             1.9      0.075   \n",
       "4            7.4              0.70         0.00             1.9      0.076   \n",
       "\n",
       "   free sulfur dioxide  total sulfur dioxide  density    pH  sulphates  \\\n",
       "0                 11.0                  34.0   0.9978  3.51       0.56   \n",
       "1                 25.0                  67.0   0.9968  3.20       0.68   \n",
       "2                 15.0                  54.0   0.9970  3.26       0.65   \n",
       "3                 17.0                  60.0   0.9980  3.16       0.58   \n",
       "4                 11.0                  34.0   0.9978  3.51       0.56   \n",
       "\n",
       "   alcohol  quality  \n",
       "0      9.4        5  \n",
       "1      9.8        5  \n",
       "2      9.8        5  \n",
       "3      9.8        6  \n",
       "4      9.4        5  "
      ]
     },
     "execution_count": 10,
     "metadata": {},
     "output_type": "execute_result"
    }
   ],
   "source": [
    "wine_df.head()"
   ]
  },
  {
   "cell_type": "code",
   "execution_count": 11,
   "id": "47685e27-6776-4da8-a7dc-9b8988c72d47",
   "metadata": {},
   "outputs": [
    {
     "data": {
      "text/plain": [
       "Index(['fixed acidity', 'volatile acidity', 'citric acid', 'residual sugar',\n",
       "       'chlorides', 'free sulfur dioxide', 'total sulfur dioxide', 'density',\n",
       "       'pH', 'sulphates', 'alcohol', 'quality'],\n",
       "      dtype='object')"
      ]
     },
     "execution_count": 11,
     "metadata": {},
     "output_type": "execute_result"
    }
   ],
   "source": [
    "wine_df.columns"
   ]
  },
  {
   "cell_type": "code",
   "execution_count": 12,
   "id": "b697acea-ca69-4a40-8290-a1bb1e9db716",
   "metadata": {},
   "outputs": [
    {
     "data": {
      "text/plain": [
       "6"
      ]
     },
     "execution_count": 12,
     "metadata": {},
     "output_type": "execute_result"
    }
   ],
   "source": [
    "wine_df.quality.nunique()"
   ]
  },
  {
   "cell_type": "code",
   "execution_count": 13,
   "id": "90408d70-1b4e-41a0-84f4-4c2d9b5f4cc9",
   "metadata": {},
   "outputs": [
    {
     "data": {
      "text/plain": [
       "Counter({5: 681, 6: 638, 7: 199, 4: 53, 8: 18, 3: 10})"
      ]
     },
     "execution_count": 13,
     "metadata": {},
     "output_type": "execute_result"
    }
   ],
   "source": [
    "from collections import Counter\n",
    "counter = Counter(wine_df.quality)\n",
    "counter"
   ]
  },
  {
   "cell_type": "code",
   "execution_count": 14,
   "id": "15f4f489-ec50-4303-9120-c6ebae5e9fce",
   "metadata": {},
   "outputs": [],
   "source": [
    "features = wine_df[['fixed acidity', 'volatile acidity', 'citric acid', 'residual sugar','chlorides', 'free sulfur dioxide', 'total sulfur dioxide', 'density','pH', 'sulphates', 'alcohol']]\n",
    "label = wine_df['quality']"
   ]
  },
  {
   "cell_type": "code",
   "execution_count": 15,
   "id": "9ccb7637-625f-4118-bf34-a7dc7b3cf154",
   "metadata": {},
   "outputs": [
    {
     "data": {
      "text/plain": [
       "Counter({5: 681, 6: 681, 7: 681, 4: 681, 8: 681, 3: 681})"
      ]
     },
     "execution_count": 15,
     "metadata": {},
     "output_type": "execute_result"
    }
   ],
   "source": [
    "from imblearn.over_sampling import SMOTE\n",
    "\n",
    "oversample=SMOTE()\n",
    "features_upsample, label_upsample = oversample.fit_resample(features,label)\n",
    "counter = Counter(label_upsample)\n",
    "counter"
   ]
  },
  {
   "cell_type": "code",
   "execution_count": 16,
   "id": "d155b871-eda8-45db-b794-543be86668a8",
   "metadata": {
    "scrolled": true
   },
   "outputs": [],
   "source": [
    "X_train, X_test, y_train, y_test = train_test_split(features_upsample, \n",
    "                                                    label_upsample, \n",
    "                                                    test_size=0.1, \n",
    "                                                    random_state=123)\n",
    "param_grid = {\n",
    "    'C': [0.1, 1.0, 10.0]  # Different inverse regularization strengths\n",
    "}"
   ]
  },
  {
   "cell_type": "code",
   "execution_count": 17,
   "id": "4130688e-635f-4772-b478-aa2c72675c24",
   "metadata": {},
   "outputs": [
    {
     "name": "stdout",
     "output_type": "stream",
     "text": [
      "Best Hyperparameters: {'C': 10.0}\n",
      "Best Accuracy on Cross-Validated Set: 0.590149733806566\n",
      "Accuracy on Test Set: 0.5941320293398533\n"
     ]
    }
   ],
   "source": [
    "scaler_minmax = MinMaxScaler()\n",
    "scaler_minmax.fit(X_train)\n",
    "x_train_mmscaled = scaler_minmax.transform(X_train)\n",
    "x_test_mmscaled = scaler_minmax.transform(X_test)\n",
    "\n",
    "# Create a logistic regression classifier\n",
    "logreg = LogisticRegression(max_iter=50000)\n",
    "\n",
    "# Perform grid search to find the best hyperparameters\n",
    "grid_search = GridSearchCV(logreg, param_grid, cv=5)\n",
    "grid_search.fit(x_train_mmscaled, y_train)\n",
    "\n",
    "# Get the best hyperparameters and the corresponding accuracy score\n",
    "best_params = grid_search.best_params_\n",
    "best_score = grid_search.best_score_\n",
    "\n",
    "# Train the logistic regression classifier with the best hyperparameters\n",
    "best_logreg = LogisticRegression(**best_params, max_iter=50000)\n",
    "best_logreg.fit(x_train_mmscaled, y_train)\n",
    "\n",
    "# Predict the classes for the test set\n",
    "y_pred = best_logreg.predict(x_test_mmscaled)\n",
    "\n",
    "# Calculate the accuracy of the classifier\n",
    "accuracy = accuracy_score(y_test, y_pred)\n",
    "\n",
    "# Print the results\n",
    "print(\"Best Hyperparameters:\", best_params)\n",
    "print(\"Best Accuracy on Cross-Validated Set:\", best_score)\n",
    "print(\"Accuracy on Test Set:\", accuracy)"
   ]
  },
  {
   "cell_type": "code",
   "execution_count": 18,
   "id": "4c5727da-8b5c-4c92-b312-2e32f0f55bc6",
   "metadata": {},
   "outputs": [
    {
     "data": {
      "text/plain": [
       "<function matplotlib.pyplot.show(close=None, block=None)>"
      ]
     },
     "execution_count": 18,
     "metadata": {},
     "output_type": "execute_result"
    },
    {
     "data": {
      "image/png": "[encoded data removed]",
      "text/plain": [
       "<Figure size 640x480 with 2 Axes>"
      ]
     },
     "metadata": {},
     "output_type": "display_data"
    }
   ],
   "source": [
    "cm = confusion_matrix(y_test, y_pred)\n",
    "cm_display = ConfusionMatrixDisplay(confusion_matrix=cm)\n",
    "cm_display.plot()\n",
    "plt.show"
   ]
  },
  {
   "cell_type": "markdown",
   "id": "91991a88-ed4b-47b0-a9a5-31f73ad6fc56",
   "metadata": {},
   "source": [
    "### Classification Conclusion\n",
    "\n",
    "Step by step:\n",
    "\n",
    "1. Load the dataset >> df\n",
    "2. Data preprocessing >> null value, scaler\n",
    "3. Identifying features and label\n",
    "4. Train test split >> small 8:2, bigger 9.5:0.5\n",
    "5. Define classifier >> KNN, SVM, Logistic Regression\n",
    "6. Model training >> .fit()\n",
    "7. Model accuracy >> .score, accuracy_score\n",
    "8. Confusion Matrix\n",
    "9. Save the model joblib\n",
    "\n",
    "Additional\n",
    "\n",
    "1. GridsearchCV to find best parameter\n",
    "2. Cross validation\n"
   ]
  },
  {
   "cell_type": "markdown",
   "id": "85fe2c23-2bdf-4535-8294-0a83eb698f97",
   "metadata": {},
   "source": [
    "# Regression"
   ]
  },
  {
   "cell_type": "markdown",
   "id": "e2d04466-d05e-4977-94cf-4e8183b14792",
   "metadata": {},
   "source": [
    "* Used to predict numerical dependednt variable\n",
    "* Two types:\n",
    "  * Linear\n",
    "      * Simple Linear Regression\n",
    "      * Multiple Linear Regression\n",
    "  * Non-Linear\n",
    "\n",
    "### Simple Linear Regression\n",
    "- Simple linear equation: `y=mx+c`\n",
    "- Linear Regression: `y= Bo + B1*x+ u`(Residual)\n",
    "  - `y` = Actual value\n",
    "  - `Bo + B1*x` = Predicted Value\n",
    " \n",
    "### Multiple Linear Regression\n",
    "- Many to One\n",
    "- More independent variable\n",
    "- `y - Bo + B1x1 + B2x2+ ... + Bnxn + E`\n",
    "  - `y` = response\n",
    "  - `Bo` = Bias\n",
    "  - `E` = Error"
   ]
  },
  {
   "cell_type": "markdown",
   "id": "3d9f8734-bf85-412e-bea9-ec1bf38f19a8",
   "metadata": {},
   "source": [
    "## California housing"
   ]
  },
  {
   "cell_type": "code",
   "execution_count": 19,
   "id": "2a85a671-e61a-49de-b1ba-3fabccc6e041",
   "metadata": {},
   "outputs": [
    {
     "name": "stdout",
     "output_type": "stream",
     "text": [
      "Mean Squared Error: 0.5134798447391083\n"
     ]
    }
   ],
   "source": [
    "from sklearn.datasets import fetch_california_housing\n",
    "from sklearn.linear_model import LinearRegression\n",
    "from sklearn.model_selection import train_test_split\n",
    "from sklearn.metrics import mean_squared_error\n",
    "\n",
    "# Load the California Housing dataset\n",
    "data = fetch_california_housing()\n",
    "\n",
    "X = data.data\n",
    "y = data.target\n",
    "\n",
    "# Split the dataset into training and testing sets\n",
    "X_train, X_test, y_train, y_test = train_test_split(X, y, test_size=0.2)\n",
    "\n",
    "# Create a Linear regression model\n",
    "model = LinearRegression()\n",
    "\n",
    "# Train the model\n",
    "model.fit(X_train, y_train)\n",
    "\n",
    "# Predict on the test set\n",
    "y_pred = model.predict(X_test)\n",
    "\n",
    "# Calculate the mean squared error\n",
    "mse = mean_squared_error(y_test, y_pred)\n",
    "\n",
    "# Print the mean squared error\n",
    "print(\"Mean Squared Error:\", mse)\n",
    "\n",
    " "
   ]
  },
  {
   "cell_type": "markdown",
   "id": "522b41f2-bf3f-46dd-808a-54592165aa35",
   "metadata": {},
   "source": [
    "## Performance Evaluation\n",
    "\n",
    "**1. Mean Squared Error (MSE)**\n",
    "    : `MSE = (1/n) * Σ(yi - ŷi)^2`\n",
    "\n",
    "**2. Root Mean Squared Error (RMSE)**\n",
    "    : `RMSE = sqrt((1/n) * Σ(yi - ŷi)^2)`\n",
    "    \n",
    "**3. Mean Absolute Error (MAE)**\n",
    "    : `MAE = (1/n) * Σ|yi - ŷi|`\n",
    "\n",
    "**4. R-squared (R²)**\n",
    "    : `R² = 1 - (Σ(yi - ŷi)^2) / (Σ(yi - ȳ)^2)`\n",
    "\n",
    "| Symbol | Description |\n",
    "|---|---|\n",
    "| ŷi | prediction or a point on the regression line |\n",
    "| yi | actual values or the points |\n",
    "| ȳ  | mean of all values |"
   ]
  },
  {
   "cell_type": "markdown",
   "id": "021a315e-6cd7-4974-a5cc-b0fd3b948f8d",
   "metadata": {},
   "source": [
    "**Housing Price**\n",
    "Encode"
   ]
  },
  {
   "cell_type": "code",
   "execution_count": 20,
   "id": "af171fac-c995-4822-a79b-cce1d744e321",
   "metadata": {},
   "outputs": [],
   "source": [
    "import pandas as pd\n",
    "\n",
    "house_price = pd.read_csv(\"../../dataset/housedata/data.csv\")"
   ]
  },
  {
   "cell_type": "code",
   "execution_count": 21,
   "id": "03e7d4e9-b5ce-4378-8eb0-e4e3074a34a9",
   "metadata": {},
   "outputs": [],
   "source": [
    "from sklearn.preprocessing import LabelEncoder\n",
    "\n",
    "le = LabelEncoder()\n",
    "house_price['statezip_encode'] = le.fit_transform(house_price['statezip'])\n",
    "house_price['city_encode'] = le.fit_transform(house_price['city'])"
   ]
  },
  {
   "cell_type": "code",
   "execution_count": 22,
   "id": "d9236ad8-bcfa-4f8c-8eaa-0bc96b73faf0",
   "metadata": {},
   "outputs": [
    {
     "data": {
      "text/html": [
       "<div>\n",
       "<style scoped>\n",
       "    .dataframe tbody tr th:only-of-type {\n",
       "        vertical-align: middle;\n",
       "    }\n",
       "\n",
       "    .dataframe tbody tr th {\n",
       "        vertical-align: top;\n",
       "    }\n",
       "\n",
       "    .dataframe thead th {\n",
       "        text-align: right;\n",
       "    }\n",
       "</style>\n",
       "<table border=\"1\" class=\"dataframe\">\n",
       "  <thead>\n",
       "    <tr style=\"text-align: right;\">\n",
       "      <th></th>\n",
       "      <th>date</th>\n",
       "      <th>price</th>\n",
       "      <th>bedrooms</th>\n",
       "      <th>bathrooms</th>\n",
       "      <th>sqft_living</th>\n",
       "      <th>sqft_lot</th>\n",
       "      <th>floors</th>\n",
       "      <th>waterfront</th>\n",
       "      <th>view</th>\n",
       "      <th>condition</th>\n",
       "      <th>sqft_above</th>\n",
       "      <th>sqft_basement</th>\n",
       "      <th>yr_built</th>\n",
       "      <th>yr_renovated</th>\n",
       "      <th>street</th>\n",
       "      <th>city</th>\n",
       "      <th>statezip</th>\n",
       "      <th>country</th>\n",
       "      <th>statezip_encode</th>\n",
       "      <th>city_encode</th>\n",
       "    </tr>\n",
       "  </thead>\n",
       "  <tbody>\n",
       "    <tr>\n",
       "      <th>0</th>\n",
       "      <td>2014-05-02 00:00:00</td>\n",
       "      <td>313000.0</td>\n",
       "      <td>3.0</td>\n",
       "      <td>1.50</td>\n",
       "      <td>1340</td>\n",
       "      <td>7912</td>\n",
       "      <td>1.5</td>\n",
       "      <td>0</td>\n",
       "      <td>0</td>\n",
       "      <td>3</td>\n",
       "      <td>1340</td>\n",
       "      <td>0</td>\n",
       "      <td>1955</td>\n",
       "      <td>2005</td>\n",
       "      <td>18810 Densmore Ave N</td>\n",
       "      <td>Shoreline</td>\n",
       "      <td>WA 98133</td>\n",
       "      <td>USA</td>\n",
       "      <td>62</td>\n",
       "      <td>36</td>\n",
       "    </tr>\n",
       "    <tr>\n",
       "      <th>1</th>\n",
       "      <td>2014-05-02 00:00:00</td>\n",
       "      <td>2384000.0</td>\n",
       "      <td>5.0</td>\n",
       "      <td>2.50</td>\n",
       "      <td>3650</td>\n",
       "      <td>9050</td>\n",
       "      <td>2.0</td>\n",
       "      <td>0</td>\n",
       "      <td>4</td>\n",
       "      <td>5</td>\n",
       "      <td>3370</td>\n",
       "      <td>280</td>\n",
       "      <td>1921</td>\n",
       "      <td>0</td>\n",
       "      <td>709 W Blaine St</td>\n",
       "      <td>Seattle</td>\n",
       "      <td>WA 98119</td>\n",
       "      <td>USA</td>\n",
       "      <td>58</td>\n",
       "      <td>35</td>\n",
       "    </tr>\n",
       "    <tr>\n",
       "      <th>2</th>\n",
       "      <td>2014-05-02 00:00:00</td>\n",
       "      <td>342000.0</td>\n",
       "      <td>3.0</td>\n",
       "      <td>2.00</td>\n",
       "      <td>1930</td>\n",
       "      <td>11947</td>\n",
       "      <td>1.0</td>\n",
       "      <td>0</td>\n",
       "      <td>0</td>\n",
       "      <td>4</td>\n",
       "      <td>1930</td>\n",
       "      <td>0</td>\n",
       "      <td>1966</td>\n",
       "      <td>0</td>\n",
       "      <td>26206-26214 143rd Ave SE</td>\n",
       "      <td>Kent</td>\n",
       "      <td>WA 98042</td>\n",
       "      <td>USA</td>\n",
       "      <td>26</td>\n",
       "      <td>18</td>\n",
       "    </tr>\n",
       "    <tr>\n",
       "      <th>3</th>\n",
       "      <td>2014-05-02 00:00:00</td>\n",
       "      <td>420000.0</td>\n",
       "      <td>3.0</td>\n",
       "      <td>2.25</td>\n",
       "      <td>2000</td>\n",
       "      <td>8030</td>\n",
       "      <td>1.0</td>\n",
       "      <td>0</td>\n",
       "      <td>0</td>\n",
       "      <td>4</td>\n",
       "      <td>1000</td>\n",
       "      <td>1000</td>\n",
       "      <td>1963</td>\n",
       "      <td>0</td>\n",
       "      <td>857 170th Pl NE</td>\n",
       "      <td>Bellevue</td>\n",
       "      <td>WA 98008</td>\n",
       "      <td>USA</td>\n",
       "      <td>7</td>\n",
       "      <td>3</td>\n",
       "    </tr>\n",
       "    <tr>\n",
       "      <th>4</th>\n",
       "      <td>2014-05-02 00:00:00</td>\n",
       "      <td>550000.0</td>\n",
       "      <td>4.0</td>\n",
       "      <td>2.50</td>\n",
       "      <td>1940</td>\n",
       "      <td>10500</td>\n",
       "      <td>1.0</td>\n",
       "      <td>0</td>\n",
       "      <td>0</td>\n",
       "      <td>4</td>\n",
       "      <td>1140</td>\n",
       "      <td>800</td>\n",
       "      <td>1976</td>\n",
       "      <td>1992</td>\n",
       "      <td>9105 170th Ave NE</td>\n",
       "      <td>Redmond</td>\n",
       "      <td>WA 98052</td>\n",
       "      <td>USA</td>\n",
       "      <td>31</td>\n",
       "      <td>31</td>\n",
       "    </tr>\n",
       "  </tbody>\n",
       "</table>\n",
       "</div>"
      ],
      "text/plain": [
       "                  date      price  bedrooms  bathrooms  sqft_living  sqft_lot  \\\n",
       "0  2014-05-02 00:00:00   313000.0       3.0       1.50         1340      7912   \n",
       "1  2014-05-02 00:00:00  2384000.0       5.0       2.50         3650      9050   \n",
       "2  2014-05-02 00:00:00   342000.0       3.0       2.00         1930     11947   \n",
       "3  2014-05-02 00:00:00   420000.0       3.0       2.25         2000      8030   \n",
       "4  2014-05-02 00:00:00   550000.0       4.0       2.50         1940     10500   \n",
       "\n",
       "   floors  waterfront  view  condition  sqft_above  sqft_basement  yr_built  \\\n",
       "0     1.5           0     0          3        1340              0      1955   \n",
       "1     2.0           0     4          5        3370            280      1921   \n",
       "2     1.0           0     0          4        1930              0      1966   \n",
       "3     1.0           0     0          4        1000           1000      1963   \n",
       "4     1.0           0     0          4        1140            800      1976   \n",
       "\n",
       "   yr_renovated                    street       city  statezip country  \\\n",
       "0          2005      18810 Densmore Ave N  Shoreline  WA 98133     USA   \n",
       "1             0           709 W Blaine St    Seattle  WA 98119     USA   \n",
       "2             0  26206-26214 143rd Ave SE       Kent  WA 98042     USA   \n",
       "3             0           857 170th Pl NE   Bellevue  WA 98008     USA   \n",
       "4          1992         9105 170th Ave NE    Redmond  WA 98052     USA   \n",
       "\n",
       "   statezip_encode  city_encode  \n",
       "0               62           36  \n",
       "1               58           35  \n",
       "2               26           18  \n",
       "3                7            3  \n",
       "4               31           31  "
      ]
     },
     "execution_count": 22,
     "metadata": {},
     "output_type": "execute_result"
    }
   ],
   "source": [
    "house_price.head()"
   ]
  },
  {
   "cell_type": "code",
   "execution_count": 23,
   "id": "b05e4fee-252b-4fa1-8cff-96ca60aea888",
   "metadata": {},
   "outputs": [
    {
     "data": {
      "text/plain": [
       "price              float64\n",
       "bedrooms           float64\n",
       "bathrooms          float64\n",
       "sqft_living          int64\n",
       "sqft_lot             int64\n",
       "floors             float64\n",
       "waterfront           int64\n",
       "view                 int64\n",
       "condition            int64\n",
       "sqft_above           int64\n",
       "sqft_basement        int64\n",
       "yr_built             int64\n",
       "yr_renovated         int64\n",
       "statezip_encode      int64\n",
       "city_encode          int64\n",
       "dtype: object"
      ]
     },
     "execution_count": 23,
     "metadata": {},
     "output_type": "execute_result"
    }
   ],
   "source": [
    "house_price_filtered = house_price.drop(['date', 'country', 'city', 'statezip', 'street'], axis=1)\n",
    "house_price_filtered.dtypes"
   ]
  },
  {
   "cell_type": "code",
   "execution_count": 24,
   "id": "781ccdb1-5416-475b-b521-bcf53bb7ce20",
   "metadata": {},
   "outputs": [],
   "source": [
    "features=house_price_filtered[['bedrooms', 'bathrooms', 'sqft_living', 'sqft_lot','floors',\n",
    "                               'waterfront', 'view', 'condition', 'sqft_above','sqft_basement',\n",
    "                               'yr_built', 'yr_renovated','statezip_encode', 'city_encode']]\n",
    "\n",
    "label = house_price_filtered['price']"
   ]
  },
  {
   "cell_type": "code",
   "execution_count": 25,
   "id": "bbd4d2cf-28e0-4943-9295-55b5b6bbab49",
   "metadata": {},
   "outputs": [
    {
     "data": {
      "text/html": [
       "<div>\n",
       "<style scoped>\n",
       "    .dataframe tbody tr th:only-of-type {\n",
       "        vertical-align: middle;\n",
       "    }\n",
       "\n",
       "    .dataframe tbody tr th {\n",
       "        vertical-align: top;\n",
       "    }\n",
       "\n",
       "    .dataframe thead th {\n",
       "        text-align: right;\n",
       "    }\n",
       "</style>\n",
       "<table border=\"1\" class=\"dataframe\">\n",
       "  <thead>\n",
       "    <tr style=\"text-align: right;\">\n",
       "      <th></th>\n",
       "      <th>bedrooms</th>\n",
       "      <th>bathrooms</th>\n",
       "      <th>sqft_living</th>\n",
       "      <th>sqft_lot</th>\n",
       "      <th>floors</th>\n",
       "      <th>waterfront</th>\n",
       "      <th>view</th>\n",
       "      <th>condition</th>\n",
       "      <th>sqft_above</th>\n",
       "      <th>sqft_basement</th>\n",
       "      <th>yr_built</th>\n",
       "      <th>yr_renovated</th>\n",
       "      <th>statezip_encode</th>\n",
       "      <th>city_encode</th>\n",
       "    </tr>\n",
       "  </thead>\n",
       "  <tbody>\n",
       "    <tr>\n",
       "      <th>0</th>\n",
       "      <td>3.0</td>\n",
       "      <td>1.50</td>\n",
       "      <td>1340</td>\n",
       "      <td>7912</td>\n",
       "      <td>1.5</td>\n",
       "      <td>0</td>\n",
       "      <td>0</td>\n",
       "      <td>3</td>\n",
       "      <td>1340</td>\n",
       "      <td>0</td>\n",
       "      <td>1955</td>\n",
       "      <td>2005</td>\n",
       "      <td>62</td>\n",
       "      <td>36</td>\n",
       "    </tr>\n",
       "    <tr>\n",
       "      <th>1</th>\n",
       "      <td>5.0</td>\n",
       "      <td>2.50</td>\n",
       "      <td>3650</td>\n",
       "      <td>9050</td>\n",
       "      <td>2.0</td>\n",
       "      <td>0</td>\n",
       "      <td>4</td>\n",
       "      <td>5</td>\n",
       "      <td>3370</td>\n",
       "      <td>280</td>\n",
       "      <td>1921</td>\n",
       "      <td>0</td>\n",
       "      <td>58</td>\n",
       "      <td>35</td>\n",
       "    </tr>\n",
       "    <tr>\n",
       "      <th>2</th>\n",
       "      <td>3.0</td>\n",
       "      <td>2.00</td>\n",
       "      <td>1930</td>\n",
       "      <td>11947</td>\n",
       "      <td>1.0</td>\n",
       "      <td>0</td>\n",
       "      <td>0</td>\n",
       "      <td>4</td>\n",
       "      <td>1930</td>\n",
       "      <td>0</td>\n",
       "      <td>1966</td>\n",
       "      <td>0</td>\n",
       "      <td>26</td>\n",
       "      <td>18</td>\n",
       "    </tr>\n",
       "    <tr>\n",
       "      <th>3</th>\n",
       "      <td>3.0</td>\n",
       "      <td>2.25</td>\n",
       "      <td>2000</td>\n",
       "      <td>8030</td>\n",
       "      <td>1.0</td>\n",
       "      <td>0</td>\n",
       "      <td>0</td>\n",
       "      <td>4</td>\n",
       "      <td>1000</td>\n",
       "      <td>1000</td>\n",
       "      <td>1963</td>\n",
       "      <td>0</td>\n",
       "      <td>7</td>\n",
       "      <td>3</td>\n",
       "    </tr>\n",
       "    <tr>\n",
       "      <th>4</th>\n",
       "      <td>4.0</td>\n",
       "      <td>2.50</td>\n",
       "      <td>1940</td>\n",
       "      <td>10500</td>\n",
       "      <td>1.0</td>\n",
       "      <td>0</td>\n",
       "      <td>0</td>\n",
       "      <td>4</td>\n",
       "      <td>1140</td>\n",
       "      <td>800</td>\n",
       "      <td>1976</td>\n",
       "      <td>1992</td>\n",
       "      <td>31</td>\n",
       "      <td>31</td>\n",
       "    </tr>\n",
       "    <tr>\n",
       "      <th>...</th>\n",
       "      <td>...</td>\n",
       "      <td>...</td>\n",
       "      <td>...</td>\n",
       "      <td>...</td>\n",
       "      <td>...</td>\n",
       "      <td>...</td>\n",
       "      <td>...</td>\n",
       "      <td>...</td>\n",
       "      <td>...</td>\n",
       "      <td>...</td>\n",
       "      <td>...</td>\n",
       "      <td>...</td>\n",
       "      <td>...</td>\n",
       "      <td>...</td>\n",
       "    </tr>\n",
       "    <tr>\n",
       "      <th>4595</th>\n",
       "      <td>3.0</td>\n",
       "      <td>1.75</td>\n",
       "      <td>1510</td>\n",
       "      <td>6360</td>\n",
       "      <td>1.0</td>\n",
       "      <td>0</td>\n",
       "      <td>0</td>\n",
       "      <td>4</td>\n",
       "      <td>1510</td>\n",
       "      <td>0</td>\n",
       "      <td>1954</td>\n",
       "      <td>1979</td>\n",
       "      <td>62</td>\n",
       "      <td>35</td>\n",
       "    </tr>\n",
       "    <tr>\n",
       "      <th>4596</th>\n",
       "      <td>3.0</td>\n",
       "      <td>2.50</td>\n",
       "      <td>1460</td>\n",
       "      <td>7573</td>\n",
       "      <td>2.0</td>\n",
       "      <td>0</td>\n",
       "      <td>0</td>\n",
       "      <td>3</td>\n",
       "      <td>1460</td>\n",
       "      <td>0</td>\n",
       "      <td>1983</td>\n",
       "      <td>2009</td>\n",
       "      <td>6</td>\n",
       "      <td>3</td>\n",
       "    </tr>\n",
       "    <tr>\n",
       "      <th>4597</th>\n",
       "      <td>3.0</td>\n",
       "      <td>2.50</td>\n",
       "      <td>3010</td>\n",
       "      <td>7014</td>\n",
       "      <td>2.0</td>\n",
       "      <td>0</td>\n",
       "      <td>0</td>\n",
       "      <td>3</td>\n",
       "      <td>3010</td>\n",
       "      <td>0</td>\n",
       "      <td>2009</td>\n",
       "      <td>0</td>\n",
       "      <td>37</td>\n",
       "      <td>32</td>\n",
       "    </tr>\n",
       "    <tr>\n",
       "      <th>4598</th>\n",
       "      <td>4.0</td>\n",
       "      <td>2.00</td>\n",
       "      <td>2090</td>\n",
       "      <td>6630</td>\n",
       "      <td>1.0</td>\n",
       "      <td>0</td>\n",
       "      <td>0</td>\n",
       "      <td>3</td>\n",
       "      <td>1070</td>\n",
       "      <td>1020</td>\n",
       "      <td>1974</td>\n",
       "      <td>0</td>\n",
       "      <td>71</td>\n",
       "      <td>35</td>\n",
       "    </tr>\n",
       "    <tr>\n",
       "      <th>4599</th>\n",
       "      <td>3.0</td>\n",
       "      <td>2.50</td>\n",
       "      <td>1490</td>\n",
       "      <td>8102</td>\n",
       "      <td>2.0</td>\n",
       "      <td>0</td>\n",
       "      <td>0</td>\n",
       "      <td>4</td>\n",
       "      <td>1490</td>\n",
       "      <td>0</td>\n",
       "      <td>1990</td>\n",
       "      <td>0</td>\n",
       "      <td>26</td>\n",
       "      <td>9</td>\n",
       "    </tr>\n",
       "  </tbody>\n",
       "</table>\n",
       "<p>4600 rows × 14 columns</p>\n",
       "</div>"
      ],
      "text/plain": [
       "      bedrooms  bathrooms  sqft_living  sqft_lot  floors  waterfront  view  \\\n",
       "0          3.0       1.50         1340      7912     1.5           0     0   \n",
       "1          5.0       2.50         3650      9050     2.0           0     4   \n",
       "2          3.0       2.00         1930     11947     1.0           0     0   \n",
       "3          3.0       2.25         2000      8030     1.0           0     0   \n",
       "4          4.0       2.50         1940     10500     1.0           0     0   \n",
       "...        ...        ...          ...       ...     ...         ...   ...   \n",
       "4595       3.0       1.75         1510      6360     1.0           0     0   \n",
       "4596       3.0       2.50         1460      7573     2.0           0     0   \n",
       "4597       3.0       2.50         3010      7014     2.0           0     0   \n",
       "4598       4.0       2.00         2090      6630     1.0           0     0   \n",
       "4599       3.0       2.50         1490      8102     2.0           0     0   \n",
       "\n",
       "      condition  sqft_above  sqft_basement  yr_built  yr_renovated  \\\n",
       "0             3        1340              0      1955          2005   \n",
       "1             5        3370            280      1921             0   \n",
       "2             4        1930              0      1966             0   \n",
       "3             4        1000           1000      1963             0   \n",
       "4             4        1140            800      1976          1992   \n",
       "...         ...         ...            ...       ...           ...   \n",
       "4595          4        1510              0      1954          1979   \n",
       "4596          3        1460              0      1983          2009   \n",
       "4597          3        3010              0      2009             0   \n",
       "4598          3        1070           1020      1974             0   \n",
       "4599          4        1490              0      1990             0   \n",
       "\n",
       "      statezip_encode  city_encode  \n",
       "0                  62           36  \n",
       "1                  58           35  \n",
       "2                  26           18  \n",
       "3                   7            3  \n",
       "4                  31           31  \n",
       "...               ...          ...  \n",
       "4595               62           35  \n",
       "4596                6            3  \n",
       "4597               37           32  \n",
       "4598               71           35  \n",
       "4599               26            9  \n",
       "\n",
       "[4600 rows x 14 columns]"
      ]
     },
     "execution_count": 25,
     "metadata": {},
     "output_type": "execute_result"
    }
   ],
   "source": [
    "features"
   ]
  },
  {
   "cell_type": "code",
   "execution_count": 26,
   "id": "ef33a0eb-e23c-4f10-ae32-93f2ce5556d3",
   "metadata": {},
   "outputs": [
    {
     "name": "stdout",
     "output_type": "stream",
     "text": [
      "55042233103.17658\n",
      "0.5718801769916587\n"
     ]
    }
   ],
   "source": [
    "from sklearn.preprocessing import MinMaxScaler\n",
    "from sklearn.metrics import r2_score\n",
    "\n",
    "scaler = MinMaxScaler()\n",
    "features_scaled = scaler.fit_transform(features)\n",
    "x_train, x_test, y_train, y_test = train_test_split(features,\n",
    "                                                    label,\n",
    "                                                    test_size=0.1,\n",
    "                                                    random_state=42)\n",
    "model = LinearRegression()\n",
    "model.fit(x_train, y_train)\n",
    "\n",
    "y_pred = model.predict(x_test)\n",
    "mse = mean_squared_error(y_test, y_pred)\n",
    "r2 = r2_score(y_test, y_pred)\n",
    "\n",
    "print(mse)\n",
    "print(r2)"
   ]
  },
  {
   "cell_type": "code",
   "execution_count": 28,
   "id": "d42151b3-9cf2-4f19-b35b-834d92149cf4",
   "metadata": {
    "scrolled": true
   },
   "outputs": [
    {
     "name": "stdout",
     "output_type": "stream",
     "text": [
      "Fitting 5 folds for each of 8 candidates, totalling 40 fits\n",
      "[CV 1/5] END copy_X=True, fit_intercept=True, positive=True;, score=0.022 total time=   0.0s\n",
      "[CV 2/5] END copy_X=True, fit_intercept=True, positive=True;, score=0.574 total time=   0.0s\n",
      "[CV 3/5] END copy_X=True, fit_intercept=True, positive=True;, score=0.431 total time=   0.0s\n",
      "[CV 4/5] END copy_X=True, fit_intercept=True, positive=True;, score=0.458 total time=   0.0s\n",
      "[CV 5/5] END copy_X=True, fit_intercept=True, positive=True;, score=0.505 total time=   0.0s\n",
      "[CV 1/5] END copy_X=True, fit_intercept=True, positive=False;, score=0.020 total time=   0.0s\n",
      "[CV 2/5] END copy_X=True, fit_intercept=True, positive=False;, score=0.615 total time=   0.0s\n",
      "[CV 3/5] END copy_X=True, fit_intercept=True, positive=False;, score=0.444 total time=   0.0s\n",
      "[CV 4/5] END copy_X=True, fit_intercept=True, positive=False;, score=0.498 total time=   0.0s\n",
      "[CV 5/5] END copy_X=True, fit_intercept=True, positive=False;, score=0.543 total time=   0.0s\n",
      "[CV 1/5] END copy_X=True, fit_intercept=False, positive=True;, score=0.024 total time=   0.0s\n",
      "[CV 2/5] END copy_X=True, fit_intercept=False, positive=True;, score=0.561 total time=   0.0s\n",
      "[CV 3/5] END copy_X=True, fit_intercept=False, positive=True;, score=0.422 total time=   0.0s\n",
      "[CV 4/5] END copy_X=True, fit_intercept=False, positive=True;, score=0.444 total time=   0.0s\n",
      "[CV 5/5] END copy_X=True, fit_intercept=False, positive=True;, score=0.492 total time=   0.0s\n",
      "[CV 1/5] END copy_X=True, fit_intercept=False, positive=False;, score=0.021 total time=   0.0s\n",
      "[CV 2/5] END copy_X=True, fit_intercept=False, positive=False;, score=0.591 total time=   0.0s\n",
      "[CV 3/5] END copy_X=True, fit_intercept=False, positive=False;, score=0.436 total time=   0.0s\n",
      "[CV 4/5] END copy_X=True, fit_intercept=False, positive=False;, score=0.470 total time=   0.0s\n",
      "[CV 5/5] END copy_X=True, fit_intercept=False, positive=False;, score=0.526 total time=   0.0s\n",
      "[CV 1/5] END copy_X=False, fit_intercept=True, positive=True;, score=0.022 total time=   0.0s\n",
      "[CV 2/5] END copy_X=False, fit_intercept=True, positive=True;, score=0.574 total time=   0.0s\n",
      "[CV 3/5] END copy_X=False, fit_intercept=True, positive=True;, score=0.431 total time=   0.0s\n",
      "[CV 4/5] END copy_X=False, fit_intercept=True, positive=True;, score=0.458 total time=   0.0s\n",
      "[CV 5/5] END copy_X=False, fit_intercept=True, positive=True;, score=0.505 total time=   0.0s\n",
      "[CV 1/5] END copy_X=False, fit_intercept=True, positive=False;, score=0.020 total time=   0.0s\n",
      "[CV 2/5] END copy_X=False, fit_intercept=True, positive=False;, score=0.615 total time=   0.0s\n",
      "[CV 3/5] END copy_X=False, fit_intercept=True, positive=False;, score=0.444 total time=   0.0s\n",
      "[CV 4/5] END copy_X=False, fit_intercept=True, positive=False;, score=0.498 total time=   0.0s\n",
      "[CV 5/5] END copy_X=False, fit_intercept=True, positive=False;, score=0.543 total time=   0.0s\n",
      "[CV 1/5] END copy_X=False, fit_intercept=False, positive=True;, score=0.024 total time=   0.0s\n",
      "[CV 2/5] END copy_X=False, fit_intercept=False, positive=True;, score=0.561 total time=   0.0s\n",
      "[CV 3/5] END copy_X=False, fit_intercept=False, positive=True;, score=0.422 total time=   0.0s\n",
      "[CV 4/5] END copy_X=False, fit_intercept=False, positive=True;, score=0.444 total time=   0.0s\n",
      "[CV 5/5] END copy_X=False, fit_intercept=False, positive=True;, score=0.492 total time=   0.0s\n",
      "[CV 1/5] END copy_X=False, fit_intercept=False, positive=False;, score=0.021 total time=   0.0s\n",
      "[CV 2/5] END copy_X=False, fit_intercept=False, positive=False;, score=0.591 total time=   0.0s\n",
      "[CV 3/5] END copy_X=False, fit_intercept=False, positive=False;, score=0.436 total time=   0.0s\n",
      "[CV 4/5] END copy_X=False, fit_intercept=False, positive=False;, score=0.470 total time=   0.0s\n",
      "[CV 5/5] END copy_X=False, fit_intercept=False, positive=False;, score=0.526 total time=   0.0s\n",
      "55042233103.17658\n",
      "0.5718801769916587\n"
     ]
    }
   ],
   "source": [
    "from sklearn.preprocessing import MinMaxScaler\n",
    "from sklearn.metrics import r2_score\n",
    "\n",
    "scaler = MinMaxScaler()\n",
    "features_scaled = scaler.fit_transform(features)\n",
    "\n",
    "x_train, x_test, y_train, y_test = train_test_split(features, label, test_size=0.1, random_state=42)\n",
    "\n",
    "param_grid = {\n",
    "    'fit_intercept': [True, False],\n",
    "    'positive': [True, False],\n",
    "    'copy_X': [True, False]\n",
    "}\n",
    "\n",
    "model = LinearRegression()\n",
    "\n",
    "gridsearch = GridSearchCV(model, param_grid, cv=5, verbose=3)\n",
    "\n",
    "gridsearch.fit(x_train, y_train)\n",
    "\n",
    "y_pred = gridsearch.predict(x_test)\n",
    "mse = mean_squared_error(y_test, y_pred)\n",
    "r2 = r2_score(y_test, y_pred)\n",
    "\n",
    "print(mse)\n",
    "print(r2)\n"
   ]
  },
  {
   "cell_type": "code",
   "execution_count": null,
   "id": "829dfd03-b622-4632-8c83-a1021c037799",
   "metadata": {},
   "outputs": [],
   "source": []
  }
 ],
 "metadata": {
  "kernelspec": {
   "display_name": "Python 3 (ipykernel)",
   "language": "python",
   "name": "python3"
  },
  "language_info": {
   "codemirror_mode": {
    "name": "ipython",
    "version": 3
   },
   "file_extension": ".py",
   "mimetype": "text/x-python",
   "name": "python",
   "nbconvert_exporter": "python",
   "pygments_lexer": "ipython3",
   "version": "3.11.9"
  }
 },
 "nbformat": 4,
 "nbformat_minor": 5
}
