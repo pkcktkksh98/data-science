{
 "cells": [
  {
   "cell_type": "markdown",
   "id": "33580246-4d09-4646-9dad-e83387613c49",
   "metadata": {},
   "source": [
    "## Pandas SQL"
   ]
  },
  {
   "cell_type": "code",
   "execution_count": 1,
   "id": "9b1a2163-1b7b-44c4-9fec-84084fd08dfa",
   "metadata": {},
   "outputs": [],
   "source": [
    "import pandas as pd"
   ]
  },
  {
   "cell_type": "code",
   "execution_count": 2,
   "id": "50ca5f7c-1442-4c69-9cde-eef317554baa",
   "metadata": {},
   "outputs": [],
   "source": [
    "import sqlite3"
   ]
  },
  {
   "cell_type": "code",
   "execution_count": 3,
   "id": "a7e9f570-ae10-4d14-9a93-68d25c05a2a4",
   "metadata": {},
   "outputs": [],
   "source": [
    "create_table = \"\"\"\n",
    "CREATE TABLE student_score\n",
    "(Id INTEGER, Name VARCHAR(20), Math REAL,\n",
    "Science Real\n",
    ");\"\"\""
   ]
  },
  {
   "cell_type": "code",
   "execution_count": 4,
   "id": "b6e39255-fe30-4572-9140-27f49455d915",
   "metadata": {},
   "outputs": [],
   "source": [
    "executeSQL = sqlite3.connect(':memory:')\n",
    "executeSQL.execute(create_table)\n",
    "executeSQL.commit()"
   ]
  },
  {
   "cell_type": "code",
   "execution_count": 5,
   "id": "a2b856e6-c428-4319-b812-9bf9442386c6",
   "metadata": {
    "scrolled": true
   },
   "outputs": [
    {
     "data": {
      "text/plain": [
       "[]"
      ]
     },
     "execution_count": 5,
     "metadata": {},
     "output_type": "execute_result"
    }
   ],
   "source": [
    "# View table\n",
    "#prepare a SQL query\n",
    "SQL_query = executeSQL.execute('select * from student_score') \n",
    "#fetch result from the SQLlite database\n",
    "resulset = SQL_query.fetchall()\n",
    "resulset"
   ]
  },
  {
   "cell_type": "markdown",
   "id": "262452f0-fa8e-40a5-9019-0a3df4e778b2",
   "metadata": {},
   "source": [
    "## Pandas SQL Operation"
   ]
  },
  {
   "cell_type": "code",
   "execution_count": 6,
   "id": "920e5f13-d089-45c5-8447-d571e5ca6bdd",
   "metadata": {},
   "outputs": [],
   "source": [
    "#prepare the data\n",
    "insertSQL = [(10,'Jack',82,92),\n",
    "             (29,'Tome',73,89),\n",
    "             (65,'Ram',65.6,77),\n",
    "             (5,'Steve',32,54)]"
   ]
  },
  {
   "cell_type": "code",
   "execution_count": 7,
   "id": "1fb72b31-1544-49a9-9d55-081c19712ecc",
   "metadata": {},
   "outputs": [],
   "source": [
    "insert_statement = \"INSERT INTO student_score VALUES(?,?,?,?)\"\n",
    "executeSQL.executemany(insert_statement,insertSQL)\n",
    "executeSQL.commit()"
   ]
  },
  {
   "cell_type": "code",
   "execution_count": 19,
   "id": "e674fc9e-827e-467f-beb8-009d5496ed6b",
   "metadata": {},
   "outputs": [
    {
     "data": {
      "text/plain": [
       "[(10, 'Jack', 82.0, 92.0), (29, 'Tome', 73.0, 89.0)]"
      ]
     },
     "execution_count": 19,
     "metadata": {},
     "output_type": "execute_result"
    }
   ],
   "source": [
    "#prepare a SQL query\n",
    "SQL_query = executeSQL.execute('select * from student_score limit 2') \n",
    "#fetch result from the SQLlite database\n",
    "resulset = SQL_query.fetchall()\n",
    "resulset"
   ]
  },
  {
   "cell_type": "code",
   "execution_count": 10,
   "id": "5a3ea30c-119b-4da3-afc7-7e149e89c753",
   "metadata": {},
   "outputs": [
    {
     "data": {
      "text/html": [
       "<div>\n",
       "<style scoped>\n",
       "    .dataframe tbody tr th:only-of-type {\n",
       "        vertical-align: middle;\n",
       "    }\n",
       "\n",
       "    .dataframe tbody tr th {\n",
       "        vertical-align: top;\n",
       "    }\n",
       "\n",
       "    .dataframe thead th {\n",
       "        text-align: right;\n",
       "    }\n",
       "</style>\n",
       "<table border=\"1\" class=\"dataframe\">\n",
       "  <thead>\n",
       "    <tr style=\"text-align: right;\">\n",
       "      <th></th>\n",
       "      <th>ID</th>\n",
       "      <th>Name</th>\n",
       "      <th>Math</th>\n",
       "      <th>Science</th>\n",
       "    </tr>\n",
       "  </thead>\n",
       "  <tbody>\n",
       "    <tr>\n",
       "      <th>0</th>\n",
       "      <td>10</td>\n",
       "      <td>Jack</td>\n",
       "      <td>82.0</td>\n",
       "      <td>92.0</td>\n",
       "    </tr>\n",
       "    <tr>\n",
       "      <th>1</th>\n",
       "      <td>29</td>\n",
       "      <td>Tome</td>\n",
       "      <td>73.0</td>\n",
       "      <td>89.0</td>\n",
       "    </tr>\n",
       "    <tr>\n",
       "      <th>2</th>\n",
       "      <td>65</td>\n",
       "      <td>Ram</td>\n",
       "      <td>65.6</td>\n",
       "      <td>77.0</td>\n",
       "    </tr>\n",
       "    <tr>\n",
       "      <th>3</th>\n",
       "      <td>5</td>\n",
       "      <td>Steve</td>\n",
       "      <td>32.0</td>\n",
       "      <td>54.0</td>\n",
       "    </tr>\n",
       "  </tbody>\n",
       "</table>\n",
       "</div>"
      ],
      "text/plain": [
       "   ID   Name  Math  Science\n",
       "0  10   Jack  82.0     92.0\n",
       "1  29   Tome  73.0     89.0\n",
       "2  65    Ram  65.6     77.0\n",
       "3   5  Steve  32.0     54.0"
      ]
     },
     "execution_count": 10,
     "metadata": {},
     "output_type": "execute_result"
    }
   ],
   "source": [
    "df = pd.DataFrame(resulset, \n",
    "                  columns=['ID', 'Name', 'Math', 'Science'])\n",
    "df"
   ]
  },
  {
   "cell_type": "code",
   "execution_count": 24,
   "id": "80058e96-cfa6-4749-97d8-ef60e1b8327b",
   "metadata": {},
   "outputs": [
    {
     "name": "stdout",
     "output_type": "stream",
     "text": [
      "('Id', None, None, None, None, None, None)\n",
      "('Name', None, None, None, None, None, None)\n",
      "('Math', None, None, None, None, None, None)\n",
      "('Science', None, None, None, None, None, None)\n",
      "['Id', 'Name', 'Math', 'Science']\n"
     ]
    }
   ],
   "source": [
    "list=SQL_query.description\n",
    "columns=[]\n",
    "for i in list:\n",
    "    columns.append(i[0])\n",
    "    print(i)\n",
    "\n",
    "print(columns)"
   ]
  },
  {
   "cell_type": "code",
   "execution_count": 26,
   "id": "4fb32253-52c3-4aa7-b910-24b40c11f60f",
   "metadata": {},
   "outputs": [
    {
     "data": {
      "text/html": [
       "<div>\n",
       "<style scoped>\n",
       "    .dataframe tbody tr th:only-of-type {\n",
       "        vertical-align: middle;\n",
       "    }\n",
       "\n",
       "    .dataframe tbody tr th {\n",
       "        vertical-align: top;\n",
       "    }\n",
       "\n",
       "    .dataframe thead th {\n",
       "        text-align: right;\n",
       "    }\n",
       "</style>\n",
       "<table border=\"1\" class=\"dataframe\">\n",
       "  <thead>\n",
       "    <tr style=\"text-align: right;\">\n",
       "      <th></th>\n",
       "      <th>Id</th>\n",
       "      <th>Name</th>\n",
       "      <th>Math</th>\n",
       "      <th>Science</th>\n",
       "    </tr>\n",
       "  </thead>\n",
       "  <tbody>\n",
       "    <tr>\n",
       "      <th>0</th>\n",
       "      <td>10</td>\n",
       "      <td>Jack</td>\n",
       "      <td>82.0</td>\n",
       "      <td>92.0</td>\n",
       "    </tr>\n",
       "    <tr>\n",
       "      <th>1</th>\n",
       "      <td>29</td>\n",
       "      <td>Tome</td>\n",
       "      <td>73.0</td>\n",
       "      <td>89.0</td>\n",
       "    </tr>\n",
       "  </tbody>\n",
       "</table>\n",
       "</div>"
      ],
      "text/plain": [
       "   Id  Name  Math  Science\n",
       "0  10  Jack  82.0     92.0\n",
       "1  29  Tome  73.0     89.0"
      ]
     },
     "execution_count": 26,
     "metadata": {},
     "output_type": "execute_result"
    }
   ],
   "source": [
    "df_column_sql=pd.DataFrame(resulset, columns=columns)\n",
    "df_column_sql"
   ]
  },
  {
   "cell_type": "markdown",
   "id": "505c5024-231f-4412-a220-c11658a51df9",
   "metadata": {},
   "source": [
    "## Numpy"
   ]
  },
  {
   "cell_type": "code",
   "execution_count": 29,
   "id": "95def0f2-11d6-4582-bb10-9fede4bab3ae",
   "metadata": {},
   "outputs": [],
   "source": [
    "import numpy as np"
   ]
  },
  {
   "cell_type": "code",
   "execution_count": 41,
   "id": "1f56373d-330e-49d8-9cba-7bb8c0efbafb",
   "metadata": {},
   "outputs": [],
   "source": [
    "distance=[12,15,20,10]\n",
    "speed=[.30,0.3,0.85,0.15]\n",
    "Dim2 = [[12,15,20,10],[.30,0.3,0.85,0.15]]"
   ]
  },
  {
   "cell_type": "code",
   "execution_count": 43,
   "id": "8c0b9182-1a44-47af-ba0d-5567a0119162",
   "metadata": {},
   "outputs": [],
   "source": [
    "np_distance = np.array(distance)\n",
    "np_speed=np.array(speed)\n",
    "np_Dim2=np.array(Dim2)\n",
    "speed = np_distance/np_speed"
   ]
  },
  {
   "cell_type": "code",
   "execution_count": 44,
   "id": "d2adebfc-4405-48cc-ad84-da091810cd3d",
   "metadata": {},
   "outputs": [
    {
     "name": "stdout",
     "output_type": "stream",
     "text": [
      "2\n",
      "(2, 4)\n",
      "8\n",
      "float64\n"
     ]
    }
   ],
   "source": [
    "print(np_Dim2.ndim) # No. of row\n",
    "print(np_Dim2.shape) # (row,column)\n",
    "print(np_Dim2.size) # row x column\n",
    "print(np_Dim2.dtype) # element type"
   ]
  }
 ],
 "metadata": {
  "kernelspec": {
   "display_name": "Python 3 (ipykernel)",
   "language": "python",
   "name": "python3"
  },
  "language_info": {
   "codemirror_mode": {
    "name": "ipython",
    "version": 3
   },
   "file_extension": ".py",
   "mimetype": "text/x-python",
   "name": "python",
   "nbconvert_exporter": "python",
   "pygments_lexer": "ipython3",
   "version": "3.12.4"
  }
 },
 "nbformat": 4,
 "nbformat_minor": 5
}
